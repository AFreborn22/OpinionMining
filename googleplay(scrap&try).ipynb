{
 "cells": [
  {
   "cell_type": "code",
   "execution_count": 2,
   "metadata": {},
   "outputs": [],
   "source": [
    "from google_play_scraper import app, reviews_all\n",
    "import pandas as pd"
   ]
  },
  {
   "cell_type": "code",
   "execution_count": 6,
   "metadata": {},
   "outputs": [],
   "source": [
    "app_id = 'com.facebook.katana'"
   ]
  },
  {
   "cell_type": "code",
   "execution_count": 7,
   "metadata": {},
   "outputs": [
    {
     "name": "stdout",
     "output_type": "stream",
     "text": [
      "App Info: {'title': 'Facebook', 'description': \"Where real people propel your curiosity. Whether you’re thrifting gear, showing a reel to that group who gets it, or sharing laughs over fun images reimagined by AI, Facebook helps you make things happen like no other social network.\\r\\n\\r\\nExplore and expand your interests: \\r\\n* Ask Meta AI to search topics that matter to you, and get instant results more interactive than just text\\r\\n* Shop Marketplace for deals and hidden gems to nurture your hobbies\\r\\n* Personalize your Feed to see more of what you like, less of what you don’t\\r\\n* Dive into reels and videos for how-to’s or quick entertainment\\r\\n\\r\\nConnect with people and communities:\\r\\n* Join groups to learn tips from real people who’ve been there, done that\\r\\n* Turn on sharing to Instagram to save time\\r\\n* Privately message relatable posts that only your BFF will get or that Reels trend everyone’s talking about\\r\\n\\r\\nShare your world:\\r\\n* Use generative AI to delight friends with custom images, or just get help writing posts\\r\\n* Customize your profile to choose how you show up and who sees your posts\\r\\n* Effortlessly create reels from trending templates, or showcase your creativity with a full suite of editing tools\\r\\n* Capture moments on the fly with stories\\r\\n\\r\\nSome features may not be available in your country or region. \\r\\n\\r\\nTerms & Policies: https://www.facebook.com/policies_center\\r\\n\\r\\nLearn how we're working to help keep our communities safe across Meta technologies at the Meta Safety Center: https://about.meta.com/actions/safety\", 'descriptionHTML': 'Where real people propel your curiosity. Whether you’re thrifting gear, showing a reel to that group who gets it, or sharing laughs over fun images reimagined by AI, Facebook helps you make things happen like no other social network.<br><br>Explore and expand your interests: <br>* Ask Meta AI to search topics that matter to you, and get instant results more interactive than just text<br>* Shop Marketplace for deals and hidden gems to nurture your hobbies<br>* Personalize your Feed to see more of what you like, less of what you don’t<br>* Dive into reels and videos for how-to’s or quick entertainment<br><br>Connect with people and communities:<br>* Join groups to learn tips from real people who’ve been there, done that<br>* Turn on sharing to Instagram to save time<br>* Privately message relatable posts that only your BFF will get or that Reels trend everyone’s talking about<br><br>Share your world:<br>* Use generative AI to delight friends with custom images, or just get help writing posts<br>* Customize your profile to choose how you show up and who sees your posts<br>* Effortlessly create reels from trending templates, or showcase your creativity with a full suite of editing tools<br>* Capture moments on the fly with stories<br><br>Some features may not be available in your country or region. <br><br>Terms &amp; Policies: https://www.facebook.com/policies_center<br><br>Learn how we&#39;re working to help keep our communities safe across Meta technologies at the Meta Safety Center: https://about.meta.com/actions/safety', 'summary': 'Explore the things you love', 'installs': '5,000,000,000+', 'minInstalls': 5000000000, 'realInstalls': 9803229356, 'score': 4.3209867, 'ratings': 149969506, 'reviews': 4245226, 'histogram': [16586808, 3017583, 6495366, 13440476, 110429233], 'price': 0, 'free': True, 'currency': 'USD', 'sale': False, 'saleTime': None, 'originalPrice': None, 'saleText': None, 'offersIAP': True, 'inAppProductPrice': '$0.05 - $5,000.00 per item', 'developer': 'Meta Platforms, Inc.', 'developerId': 'Meta+Platforms,+Inc.', 'developerEmail': 'facebook.android@fb.com', 'developerWebsite': 'https://www.facebook.com/facebook', 'developerAddress': '1 Hacker Way\\nMenlo Park, CA 94025', 'privacyPolicy': 'https://www.facebook.com/about/privacy/', 'genre': 'Social', 'genreId': 'SOCIAL', 'categories': [{'name': 'Social', 'id': 'SOCIAL'}], 'icon': 'https://play-lh.googleusercontent.com/KCMTYuiTrKom4Vyf0G4foetVOwhKWzNbHWumV73IXexAIy5TTgZipL52WTt8ICL-oIo', 'headerImage': 'https://play-lh.googleusercontent.com/GQXolHad8JJu_qR90bF9krWLP66RimpNgskSMXEcmoZ1znWfgsB8uCtM1uGC0n_lMA', 'screenshots': ['https://play-lh.googleusercontent.com/yltemK6xddx3AdaqfoI2RYFB1rHDpDxkZZl8I_3uWqOR_sGAj20sCE0a1hS_zL59mWs', 'https://play-lh.googleusercontent.com/uPC3VsBbDU5IakuOsLLFvFppuKyV6IDEIrX8EZRlR4EiRisRuSNrYCxhc30HiduWdkVi', 'https://play-lh.googleusercontent.com/LqFs9L14viQoszsQtSqqDVk3m4bKXlDSYUIYii0e7U_y0oXxASPtoxj2Pt4gV8KHDDU', 'https://play-lh.googleusercontent.com/DH_oPwYKAm6_3xjvfG8yio4xQayew62B658_4w3nIyxGqRiQncG8jX3fa3qmRZ_EQxU', 'https://play-lh.googleusercontent.com/3aTPofuVkgP4XlICCyVPZgp8ZGDXPeezeZgNh4YtCY6VUNqCg06AXYGPWRvAq-jF0fk', 'https://play-lh.googleusercontent.com/ioi2RTrBkBtTvlXtksF9oOmmEDaOswgm02oIg6KRh5QsmdXBTUxCe7zeOCglCeib_Lxy', 'https://play-lh.googleusercontent.com/b2kukObx5S3NrTPDmSEz3_GtiZUkhhXErUQgE4gBxbvYKVyJH3M19ADpkCO4UHztVg', 'https://play-lh.googleusercontent.com/WGvXMI3Vshmv6IMws7YEkzXUrV1vOh-P7Jv8cuSR8Xwm52fxjd-V4OhTKTWTqEZaIik'], 'video': 'https://www.youtube.com/embed/nt7j4taPB5E?ps=play&vq=large&rel=0&autohide=1&showinfo=0', 'videoImage': 'https://play-lh.googleusercontent.com/GQXolHad8JJu_qR90bF9krWLP66RimpNgskSMXEcmoZ1znWfgsB8uCtM1uGC0n_lMA', 'contentRating': 'Teen', 'contentRatingDescription': None, 'adSupported': True, 'containsAds': True, 'released': None, 'lastUpdatedOn': 'Aug 6, 2024', 'updated': 1722997401, 'version': 'Varies with device', 'comments': [], 'appId': 'com.facebook.katana', 'url': 'https://play.google.com/store/apps/details?id=com.facebook.katana&hl=en&gl=us'}\n"
     ]
    }
   ],
   "source": [
    "# Mendapatkan informasi aplikasi\n",
    "app_info = app(app_id)\n",
    "print(\"App Info:\", app_info)"
   ]
  },
  {
   "cell_type": "code",
   "execution_count": 8,
   "metadata": {},
   "outputs": [],
   "source": [
    "# Mendapatkan semua review\n",
    "reviews = reviews_all(\n",
    "    app_id,\n",
    "    sleep_milliseconds=0,  # Menunggu beberapa waktu di antara permintaan untuk menghindari diblokir\n",
    "    lang='id',  # Bahasa Indonesia\n",
    "    country='id'  # Negara Indonesia\n",
    ")"
   ]
  },
  {
   "cell_type": "code",
   "execution_count": null,
   "metadata": {},
   "outputs": [],
   "source": [
    "# Konversi review ke dalam DataFrame\n",
    "reviews_df = pd.DataFrame(reviews)\n",
    "reviews_df.to_csv('playstore_reviews.csv', index=False)"
   ]
  },
  {
   "cell_type": "code",
   "execution_count": 3,
   "metadata": {},
   "outputs": [],
   "source": [
    "facebookReviews  = pd.read_csv('playstore_reviews.csv')"
   ]
  },
  {
   "cell_type": "code",
   "execution_count": 4,
   "metadata": {},
   "outputs": [
    {
     "data": {
      "text/html": [
       "<div>\n",
       "<style scoped>\n",
       "    .dataframe tbody tr th:only-of-type {\n",
       "        vertical-align: middle;\n",
       "    }\n",
       "\n",
       "    .dataframe tbody tr th {\n",
       "        vertical-align: top;\n",
       "    }\n",
       "\n",
       "    .dataframe thead th {\n",
       "        text-align: right;\n",
       "    }\n",
       "</style>\n",
       "<table border=\"1\" class=\"dataframe\">\n",
       "  <thead>\n",
       "    <tr style=\"text-align: right;\">\n",
       "      <th></th>\n",
       "      <th>reviewId</th>\n",
       "      <th>userName</th>\n",
       "      <th>userImage</th>\n",
       "      <th>content</th>\n",
       "      <th>score</th>\n",
       "      <th>thumbsUpCount</th>\n",
       "      <th>reviewCreatedVersion</th>\n",
       "      <th>at</th>\n",
       "      <th>replyContent</th>\n",
       "      <th>repliedAt</th>\n",
       "      <th>appVersion</th>\n",
       "    </tr>\n",
       "  </thead>\n",
       "  <tbody>\n",
       "    <tr>\n",
       "      <th>0</th>\n",
       "      <td>62d03ac8-3292-4673-9e92-23052e820df3</td>\n",
       "      <td>Pengguna Google</td>\n",
       "      <td>https://play-lh.googleusercontent.com/EGemoI2N...</td>\n",
       "      <td>Facebook tuh klo mode gratis gk bisa lama digu...</td>\n",
       "      <td>1</td>\n",
       "      <td>0</td>\n",
       "      <td>436.0.0.35.101</td>\n",
       "      <td>2024-08-06 21:31:11</td>\n",
       "      <td>NaN</td>\n",
       "      <td>NaN</td>\n",
       "      <td>436.0.0.35.101</td>\n",
       "    </tr>\n",
       "    <tr>\n",
       "      <th>1</th>\n",
       "      <td>8c4b1396-aeb6-4251-b3b8-524d6decfc29</td>\n",
       "      <td>Pengguna Google</td>\n",
       "      <td>https://play-lh.googleusercontent.com/EGemoI2N...</td>\n",
       "      <td>Keren</td>\n",
       "      <td>5</td>\n",
       "      <td>0</td>\n",
       "      <td>NaN</td>\n",
       "      <td>2024-08-06 21:29:59</td>\n",
       "      <td>NaN</td>\n",
       "      <td>NaN</td>\n",
       "      <td>NaN</td>\n",
       "    </tr>\n",
       "    <tr>\n",
       "      <th>2</th>\n",
       "      <td>433768f1-4325-4077-82b0-e7f111286250</td>\n",
       "      <td>Pengguna Google</td>\n",
       "      <td>https://play-lh.googleusercontent.com/EGemoI2N...</td>\n",
       "      <td>oke</td>\n",
       "      <td>5</td>\n",
       "      <td>0</td>\n",
       "      <td>475.1.0.46.82</td>\n",
       "      <td>2024-08-06 21:29:21</td>\n",
       "      <td>NaN</td>\n",
       "      <td>NaN</td>\n",
       "      <td>475.1.0.46.82</td>\n",
       "    </tr>\n",
       "    <tr>\n",
       "      <th>3</th>\n",
       "      <td>103280b4-cf1f-448f-9d1d-c3c00511397f</td>\n",
       "      <td>Pengguna Google</td>\n",
       "      <td>https://play-lh.googleusercontent.com/EGemoI2N...</td>\n",
       "      <td>Mantap</td>\n",
       "      <td>4</td>\n",
       "      <td>0</td>\n",
       "      <td>NaN</td>\n",
       "      <td>2024-08-06 21:27:31</td>\n",
       "      <td>NaN</td>\n",
       "      <td>NaN</td>\n",
       "      <td>NaN</td>\n",
       "    </tr>\n",
       "    <tr>\n",
       "      <th>4</th>\n",
       "      <td>2c8c9cb4-d674-4a56-b322-02f4b411f344</td>\n",
       "      <td>Pengguna Google</td>\n",
       "      <td>https://play-lh.googleusercontent.com/EGemoI2N...</td>\n",
       "      <td>👍👍👍👍</td>\n",
       "      <td>5</td>\n",
       "      <td>0</td>\n",
       "      <td>NaN</td>\n",
       "      <td>2024-08-06 21:27:17</td>\n",
       "      <td>NaN</td>\n",
       "      <td>NaN</td>\n",
       "      <td>NaN</td>\n",
       "    </tr>\n",
       "  </tbody>\n",
       "</table>\n",
       "</div>"
      ],
      "text/plain": [
       "                               reviewId         userName  \\\n",
       "0  62d03ac8-3292-4673-9e92-23052e820df3  Pengguna Google   \n",
       "1  8c4b1396-aeb6-4251-b3b8-524d6decfc29  Pengguna Google   \n",
       "2  433768f1-4325-4077-82b0-e7f111286250  Pengguna Google   \n",
       "3  103280b4-cf1f-448f-9d1d-c3c00511397f  Pengguna Google   \n",
       "4  2c8c9cb4-d674-4a56-b322-02f4b411f344  Pengguna Google   \n",
       "\n",
       "                                           userImage  \\\n",
       "0  https://play-lh.googleusercontent.com/EGemoI2N...   \n",
       "1  https://play-lh.googleusercontent.com/EGemoI2N...   \n",
       "2  https://play-lh.googleusercontent.com/EGemoI2N...   \n",
       "3  https://play-lh.googleusercontent.com/EGemoI2N...   \n",
       "4  https://play-lh.googleusercontent.com/EGemoI2N...   \n",
       "\n",
       "                                             content  score  thumbsUpCount  \\\n",
       "0  Facebook tuh klo mode gratis gk bisa lama digu...      1              0   \n",
       "1                                              Keren      5              0   \n",
       "2                                                oke      5              0   \n",
       "3                                             Mantap      4              0   \n",
       "4                                               👍👍👍👍      5              0   \n",
       "\n",
       "  reviewCreatedVersion                   at  replyContent  repliedAt  \\\n",
       "0       436.0.0.35.101  2024-08-06 21:31:11           NaN        NaN   \n",
       "1                  NaN  2024-08-06 21:29:59           NaN        NaN   \n",
       "2        475.1.0.46.82  2024-08-06 21:29:21           NaN        NaN   \n",
       "3                  NaN  2024-08-06 21:27:31           NaN        NaN   \n",
       "4                  NaN  2024-08-06 21:27:17           NaN        NaN   \n",
       "\n",
       "       appVersion  \n",
       "0  436.0.0.35.101  \n",
       "1             NaN  \n",
       "2   475.1.0.46.82  \n",
       "3             NaN  \n",
       "4             NaN  "
      ]
     },
     "execution_count": 4,
     "metadata": {},
     "output_type": "execute_result"
    }
   ],
   "source": [
    "facebookReviews.head()"
   ]
  },
  {
   "cell_type": "code",
   "execution_count": 5,
   "metadata": {},
   "outputs": [],
   "source": [
    "facebook = facebookReviews[['content', 'score']]"
   ]
  },
  {
   "cell_type": "code",
   "execution_count": 6,
   "metadata": {},
   "outputs": [
    {
     "data": {
      "text/html": [
       "<div>\n",
       "<style scoped>\n",
       "    .dataframe tbody tr th:only-of-type {\n",
       "        vertical-align: middle;\n",
       "    }\n",
       "\n",
       "    .dataframe tbody tr th {\n",
       "        vertical-align: top;\n",
       "    }\n",
       "\n",
       "    .dataframe thead th {\n",
       "        text-align: right;\n",
       "    }\n",
       "</style>\n",
       "<table border=\"1\" class=\"dataframe\">\n",
       "  <thead>\n",
       "    <tr style=\"text-align: right;\">\n",
       "      <th></th>\n",
       "      <th>content</th>\n",
       "      <th>score</th>\n",
       "    </tr>\n",
       "  </thead>\n",
       "  <tbody>\n",
       "    <tr>\n",
       "      <th>0</th>\n",
       "      <td>Facebook tuh klo mode gratis gk bisa lama digu...</td>\n",
       "      <td>1</td>\n",
       "    </tr>\n",
       "    <tr>\n",
       "      <th>1</th>\n",
       "      <td>Keren</td>\n",
       "      <td>5</td>\n",
       "    </tr>\n",
       "    <tr>\n",
       "      <th>2</th>\n",
       "      <td>oke</td>\n",
       "      <td>5</td>\n",
       "    </tr>\n",
       "    <tr>\n",
       "      <th>3</th>\n",
       "      <td>Mantap</td>\n",
       "      <td>4</td>\n",
       "    </tr>\n",
       "    <tr>\n",
       "      <th>4</th>\n",
       "      <td>👍👍👍👍</td>\n",
       "      <td>5</td>\n",
       "    </tr>\n",
       "  </tbody>\n",
       "</table>\n",
       "</div>"
      ],
      "text/plain": [
       "                                             content  score\n",
       "0  Facebook tuh klo mode gratis gk bisa lama digu...      1\n",
       "1                                              Keren      5\n",
       "2                                                oke      5\n",
       "3                                             Mantap      4\n",
       "4                                               👍👍👍👍      5"
      ]
     },
     "execution_count": 6,
     "metadata": {},
     "output_type": "execute_result"
    }
   ],
   "source": [
    "facebook.head()"
   ]
  },
  {
   "cell_type": "code",
   "execution_count": 7,
   "metadata": {},
   "outputs": [
    {
     "data": {
      "text/plain": [
       "(598500, 2)"
      ]
     },
     "execution_count": 7,
     "metadata": {},
     "output_type": "execute_result"
    }
   ],
   "source": [
    "facebook.shape"
   ]
  },
  {
   "cell_type": "code",
   "execution_count": 8,
   "metadata": {},
   "outputs": [
    {
     "name": "stdout",
     "output_type": "stream",
     "text": [
      "<class 'pandas.core.frame.DataFrame'>\n",
      "RangeIndex: 598500 entries, 0 to 598499\n",
      "Data columns (total 2 columns):\n",
      " #   Column   Non-Null Count   Dtype \n",
      "---  ------   --------------   ----- \n",
      " 0   content  598494 non-null  object\n",
      " 1   score    598500 non-null  int64 \n",
      "dtypes: int64(1), object(1)\n",
      "memory usage: 9.1+ MB\n"
     ]
    }
   ],
   "source": [
    "facebook.info()"
   ]
  },
  {
   "cell_type": "code",
   "execution_count": 9,
   "metadata": {},
   "outputs": [
    {
     "data": {
      "text/plain": [
       "content    6\n",
       "score      0\n",
       "dtype: int64"
      ]
     },
     "execution_count": 9,
     "metadata": {},
     "output_type": "execute_result"
    }
   ],
   "source": [
    "facebook.isnull().sum()"
   ]
  },
  {
   "cell_type": "code",
   "execution_count": 10,
   "metadata": {},
   "outputs": [],
   "source": [
    "facebook = facebook.dropna()"
   ]
  },
  {
   "cell_type": "code",
   "execution_count": 11,
   "metadata": {},
   "outputs": [
    {
     "name": "stderr",
     "output_type": "stream",
     "text": [
      "[nltk_data] Downloading package stopwords to C:\\Users\\Akmal\n",
      "[nltk_data]     Fauzan\\AppData\\Roaming\\nltk_data...\n",
      "[nltk_data]   Package stopwords is already up-to-date!\n",
      "[nltk_data] Downloading package punkt to C:\\Users\\Akmal\n",
      "[nltk_data]     Fauzan\\AppData\\Roaming\\nltk_data...\n",
      "[nltk_data]   Package punkt is already up-to-date!\n",
      "[nltk_data] Downloading package wordnet to C:\\Users\\Akmal\n",
      "[nltk_data]     Fauzan\\AppData\\Roaming\\nltk_data...\n",
      "[nltk_data]   Package wordnet is already up-to-date!\n"
     ]
    },
    {
     "data": {
      "text/plain": [
       "True"
      ]
     },
     "execution_count": 11,
     "metadata": {},
     "output_type": "execute_result"
    }
   ],
   "source": [
    "import nltk\n",
    "\n",
    "nltk.download('stopwords')\n",
    "nltk.download('punkt')\n",
    "nltk.download('wordnet')"
   ]
  },
  {
   "cell_type": "code",
   "execution_count": 12,
   "metadata": {},
   "outputs": [],
   "source": [
    "import string\n",
    "from nltk.corpus import stopwords\n",
    "from nltk.tokenize import word_tokenize\n",
    "from sklearn.feature_extraction.text import TfidfVectorizer\n",
    "\n",
    "def preprocess_text(text):\n",
    "    # Remove punctuation\n",
    "    text = text.translate(str.maketrans('', '', string.punctuation))\n",
    "    \n",
    "    # Lowercase the text\n",
    "    text = text.lower()\n",
    "    \n",
    "    # Tokenization\n",
    "    words = word_tokenize(text)\n",
    "    \n",
    "    # Remove stop words\n",
    "    stop_words = set(stopwords.words('indonesian')) \n",
    "    words = [word for word in words if word not in stop_words]\n",
    "    \n",
    "    return ' '.join(words)"
   ]
  },
  {
   "cell_type": "code",
   "execution_count": 13,
   "metadata": {},
   "outputs": [],
   "source": [
    "#melakukan perubahan dan menambahkan kolom baru pada kolom yang berhasil di bersihkan\n",
    "facebook['contents'] = facebook['content'].apply(preprocess_text)"
   ]
  },
  {
   "cell_type": "code",
   "execution_count": 14,
   "metadata": {},
   "outputs": [
    {
     "name": "stderr",
     "output_type": "stream",
     "text": [
      "Stemming words: 100%|██████████| 178591/178591 [4:01:44<00:00, 12.31it/s]  \n"
     ]
    }
   ],
   "source": [
    "from Sastrawi.Stemmer.StemmerFactory import StemmerFactory\n",
    "from tqdm import tqdm\n",
    "\n",
    "# Membuat stemmer menggunakan Sastrawi\n",
    "factory = StemmerFactory()\n",
    "stemmer = factory.create_stemmer()\n",
    "\n",
    "# Mengumpulkan semua kata unik dalam dataset\n",
    "unique_words = set()\n",
    "facebook['contents'].str.split().apply(unique_words.update)\n",
    "\n",
    "# Membuat kamus kata yang sudah di-stem\n",
    "stemmed_words = {word: stemmer.stem(word) for word in tqdm(unique_words, desc=\"Stemming words\")}\n",
    "\n",
    "# Fungsi untuk menerapkan stemming menggunakan kamus\n",
    "def stemWithDict(text):\n",
    "    return ' '.join([stemmed_words.get(word, word) for word in text.split()])\n",
    " \n",
    "# Terapkan stemming ke kolom 'contents'\n",
    "facebook['contents'] = facebook['contents'].apply(stemWithDict)\n"
   ]
  },
  {
   "cell_type": "code",
   "execution_count": 15,
   "metadata": {},
   "outputs": [
    {
     "data": {
      "text/html": [
       "<div>\n",
       "<style scoped>\n",
       "    .dataframe tbody tr th:only-of-type {\n",
       "        vertical-align: middle;\n",
       "    }\n",
       "\n",
       "    .dataframe tbody tr th {\n",
       "        vertical-align: top;\n",
       "    }\n",
       "\n",
       "    .dataframe thead th {\n",
       "        text-align: right;\n",
       "    }\n",
       "</style>\n",
       "<table border=\"1\" class=\"dataframe\">\n",
       "  <thead>\n",
       "    <tr style=\"text-align: right;\">\n",
       "      <th></th>\n",
       "      <th>content</th>\n",
       "      <th>score</th>\n",
       "      <th>contents</th>\n",
       "    </tr>\n",
       "  </thead>\n",
       "  <tbody>\n",
       "    <tr>\n",
       "      <th>282859</th>\n",
       "      <td>B aja</td>\n",
       "      <td>1</td>\n",
       "      <td>b aja</td>\n",
       "    </tr>\n",
       "    <tr>\n",
       "      <th>173134</th>\n",
       "      <td>Ayak\" waek main kunci akun</td>\n",
       "      <td>1</td>\n",
       "      <td>ayak waek main kunci akun</td>\n",
       "    </tr>\n",
       "    <tr>\n",
       "      <th>171678</th>\n",
       "      <td>Anehhhh bgt guys</td>\n",
       "      <td>2</td>\n",
       "      <td>anehhhh bgt guys</td>\n",
       "    </tr>\n",
       "    <tr>\n",
       "      <th>195440</th>\n",
       "      <td>Saya suka dengan fb namun kenapa fb nya.kalo b...</td>\n",
       "      <td>1</td>\n",
       "      <td>suka fb fb nyakalo baik bug buang koneksi nya ...</td>\n",
       "    </tr>\n",
       "    <tr>\n",
       "      <th>313946</th>\n",
       "      <td>Mantap</td>\n",
       "      <td>5</td>\n",
       "      <td>mantap</td>\n",
       "    </tr>\n",
       "    <tr>\n",
       "      <th>151384</th>\n",
       "      <td>Market place saya kok gak bisa dibuka, kenapa?</td>\n",
       "      <td>4</td>\n",
       "      <td>market place gak buka</td>\n",
       "    </tr>\n",
       "    <tr>\n",
       "      <th>14965</th>\n",
       "      <td>ok dahhh</td>\n",
       "      <td>5</td>\n",
       "      <td>ok dahhh</td>\n",
       "    </tr>\n",
       "    <tr>\n",
       "      <th>265020</th>\n",
       "      <td>Trimakasi</td>\n",
       "      <td>5</td>\n",
       "      <td>trimakasi</td>\n",
       "    </tr>\n",
       "    <tr>\n",
       "      <th>440545</th>\n",
       "      <td>Kenapa facebook error terus.bikin darah tinggi..</td>\n",
       "      <td>5</td>\n",
       "      <td>facebook error terusbikin darah</td>\n",
       "    </tr>\n",
       "    <tr>\n",
       "      <th>345705</th>\n",
       "      <td>FB TAAAAIKKKKK</td>\n",
       "      <td>1</td>\n",
       "      <td>fb taaaaikkkkk</td>\n",
       "    </tr>\n",
       "    <tr>\n",
       "      <th>68982</th>\n",
       "      <td>terima kasih 🙏</td>\n",
       "      <td>5</td>\n",
       "      <td>terima kasih</td>\n",
       "    </tr>\n",
       "  </tbody>\n",
       "</table>\n",
       "</div>"
      ],
      "text/plain": [
       "                                                  content  score  \\\n",
       "282859                                              B aja      1   \n",
       "173134                         Ayak\" waek main kunci akun      1   \n",
       "171678                                   Anehhhh bgt guys      2   \n",
       "195440  Saya suka dengan fb namun kenapa fb nya.kalo b...      1   \n",
       "313946                                             Mantap      5   \n",
       "151384     Market place saya kok gak bisa dibuka, kenapa?      4   \n",
       "14965                                            ok dahhh      5   \n",
       "265020                                          Trimakasi      5   \n",
       "440545   Kenapa facebook error terus.bikin darah tinggi..      5   \n",
       "345705                                     FB TAAAAIKKKKK      1   \n",
       "68982                                      terima kasih 🙏      5   \n",
       "\n",
       "                                                 contents  \n",
       "282859                                              b aja  \n",
       "173134                          ayak waek main kunci akun  \n",
       "171678                                   anehhhh bgt guys  \n",
       "195440  suka fb fb nyakalo baik bug buang koneksi nya ...  \n",
       "313946                                             mantap  \n",
       "151384                              market place gak buka  \n",
       "14965                                            ok dahhh  \n",
       "265020                                          trimakasi  \n",
       "440545                    facebook error terusbikin darah  \n",
       "345705                                     fb taaaaikkkkk  \n",
       "68982                                       terima kasih   "
      ]
     },
     "execution_count": 15,
     "metadata": {},
     "output_type": "execute_result"
    }
   ],
   "source": [
    "facebook.sample(11)"
   ]
  },
  {
   "cell_type": "code",
   "execution_count": 16,
   "metadata": {},
   "outputs": [],
   "source": [
    "import matplotlib.pyplot as plt\n",
    "import seaborn as sns"
   ]
  },
  {
   "cell_type": "code",
   "execution_count": 17,
   "metadata": {},
   "outputs": [
    {
     "name": "stderr",
     "output_type": "stream",
     "text": [
      "C:\\Users\\Akmal Fauzan\\AppData\\Local\\Temp\\ipykernel_33544\\3152927536.py:3: FutureWarning: \n",
      "\n",
      "Passing `palette` without assigning `hue` is deprecated and will be removed in v0.14.0. Assign the `x` variable to `hue` and set `legend=False` for the same effect.\n",
      "\n",
      "  ax = sns.countplot(x='score', data=facebook, palette='mako')\n"
     ]
    },
    {
     "data": {
      "image/png": "[encoded data removed]",
      "text/plain": [
       "<Figure size 1000x600 with 1 Axes>"
      ]
     },
     "metadata": {},
     "output_type": "display_data"
    }
   ],
   "source": [
    "# Visualisasi distribusi rating\n",
    "plt.figure(figsize=(10, 6))\n",
    "ax = sns.countplot(x='score', data=facebook, palette='mako')\n",
    "\n",
    "# Menambahkan angka di atas setiap bar\n",
    "for p in ax.patches:\n",
    "    ax.annotate(f'{int(p.get_height())}', \n",
    "                (p.get_x() + p.get_width() / 2., p.get_height()), \n",
    "                ha='center', va='center', \n",
    "                xytext=(0, 10), \n",
    "                textcoords='offset points')\n",
    "\n",
    "plt.title('Distribusi Rating (Score) dari 1 sampai 5')\n",
    "plt.xlabel('Rating (Score)')\n",
    "plt.ylabel('Jumlah Ulasan')\n",
    "plt.show()"
   ]
  },
  {
   "cell_type": "code",
   "execution_count": 18,
   "metadata": {},
   "outputs": [
    {
     "name": "stdout",
     "output_type": "stream",
     "text": [
      "    10   30  a2f  abis  account   ad  adil  admin  agama   ah  ...  yah  \\\n",
      "0  0.0  0.0  0.0   0.0      0.0  0.0   0.0    0.0    0.0  0.0  ...  0.0   \n",
      "1  0.0  0.0  0.0   0.0      0.0  0.0   0.0    0.0    0.0  0.0  ...  0.0   \n",
      "2  0.0  0.0  0.0   0.0      0.0  0.0   0.0    0.0    0.0  0.0  ...  0.0   \n",
      "3  0.0  0.0  0.0   0.0      0.0  0.0   0.0    0.0    0.0  0.0  ...  0.0   \n",
      "4  0.0  0.0  0.0   0.0      0.0  0.0   0.0    0.0    0.0  0.0  ...  0.0   \n",
      "\n",
      "   yahudi  yes   yg  yng  you  your  youtube  zionis  zuckerberg  \n",
      "0     0.0  0.0  0.0  0.0  0.0   0.0      0.0     0.0         0.0  \n",
      "1     0.0  0.0  0.0  0.0  0.0   0.0      0.0     0.0         0.0  \n",
      "2     0.0  0.0  0.0  0.0  0.0   0.0      0.0     0.0         0.0  \n",
      "3     0.0  0.0  0.0  0.0  0.0   0.0      0.0     0.0         0.0  \n",
      "4     0.0  0.0  0.0  0.0  0.0   0.0      0.0     0.0         0.0  \n",
      "\n",
      "[5 rows x 1000 columns]\n"
     ]
    }
   ],
   "source": [
    "# Vectorization using TF-IDF\n",
    "vectorizer = TfidfVectorizer(max_features=1000)\n",
    "X = vectorizer.fit_transform(facebook['contents'])\n",
    "\n",
    "# Convert to DataFrame\n",
    "tfidf_df = pd.DataFrame(X.toarray(), columns=vectorizer.get_feature_names_out()) \n",
    "\n",
    "# Display the TF-IDF DataFrame\n",
    "print(tfidf_df.head())"
   ]
  },
  {
   "cell_type": "code",
   "execution_count": 19,
   "metadata": {},
   "outputs": [],
   "source": [
    "rating3 = facebook[facebook['score'] == 3]"
   ]
  },
  {
   "cell_type": "code",
   "execution_count": 20,
   "metadata": {},
   "outputs": [
    {
     "data": {
      "text/html": [
       "<div>\n",
       "<style scoped>\n",
       "    .dataframe tbody tr th:only-of-type {\n",
       "        vertical-align: middle;\n",
       "    }\n",
       "\n",
       "    .dataframe tbody tr th {\n",
       "        vertical-align: top;\n",
       "    }\n",
       "\n",
       "    .dataframe thead th {\n",
       "        text-align: right;\n",
       "    }\n",
       "</style>\n",
       "<table border=\"1\" class=\"dataframe\">\n",
       "  <thead>\n",
       "    <tr style=\"text-align: right;\">\n",
       "      <th></th>\n",
       "      <th>content</th>\n",
       "      <th>score</th>\n",
       "      <th>contents</th>\n",
       "    </tr>\n",
       "  </thead>\n",
       "  <tbody>\n",
       "    <tr>\n",
       "      <th>24</th>\n",
       "      <td>mantap</td>\n",
       "      <td>3</td>\n",
       "      <td>mantap</td>\n",
       "    </tr>\n",
       "    <tr>\n",
       "      <th>35</th>\n",
       "      <td>Mohon di bantu facebook nya biyar lancar</td>\n",
       "      <td>3</td>\n",
       "      <td>mohon bantu facebook nya biyar lancar</td>\n",
       "    </tr>\n",
       "    <tr>\n",
       "      <th>53</th>\n",
       "      <td>seru banget</td>\n",
       "      <td>3</td>\n",
       "      <td>seru banget</td>\n",
       "    </tr>\n",
       "    <tr>\n",
       "      <th>64</th>\n",
       "      <td>mantap</td>\n",
       "      <td>3</td>\n",
       "      <td>mantap</td>\n",
       "    </tr>\n",
       "    <tr>\n",
       "      <th>80</th>\n",
       "      <td>Kenapa ini fb, apk nya eror terus</td>\n",
       "      <td>3</td>\n",
       "      <td>fb apk nya eror</td>\n",
       "    </tr>\n",
       "    <tr>\n",
       "      <th>85</th>\n",
       "      <td>Kenapa FB saya gada tombol pemberitahuannya ka...</td>\n",
       "      <td>3</td>\n",
       "      <td>fb gada tombol pemberitahuannya kalo yg coment...</td>\n",
       "    </tr>\n",
       "    <tr>\n",
       "      <th>92</th>\n",
       "      <td>setatus tidk muncul di beranda</td>\n",
       "      <td>3</td>\n",
       "      <td>setatus tidk muncul beranda</td>\n",
       "    </tr>\n",
       "    <tr>\n",
       "      <th>110</th>\n",
       "      <td>Knp banyak sekali 4no disini</td>\n",
       "      <td>3</td>\n",
       "      <td>knp 4no</td>\n",
       "    </tr>\n",
       "    <tr>\n",
       "      <th>115</th>\n",
       "      <td>Fb saya kok aneh yaaa, fitur beranda pemberita...</td>\n",
       "      <td>3</td>\n",
       "      <td>fb aneh yaaa fitur beranda pemberitahuan teman...</td>\n",
       "    </tr>\n",
       "    <tr>\n",
       "      <th>124</th>\n",
       "      <td>Ekstra bonus maksudnya gimana min cara kerjanya..</td>\n",
       "      <td>3</td>\n",
       "      <td>ekstra bonus maksud gimana min kerja</td>\n",
       "    </tr>\n",
       "    <tr>\n",
       "      <th>164</th>\n",
       "      <td>Bagus</td>\n",
       "      <td>3</td>\n",
       "      <td>bagus</td>\n",
       "    </tr>\n",
       "  </tbody>\n",
       "</table>\n",
       "</div>"
      ],
      "text/plain": [
       "                                               content  score  \\\n",
       "24                                              mantap      3   \n",
       "35            Mohon di bantu facebook nya biyar lancar      3   \n",
       "53                                         seru banget      3   \n",
       "64                                              mantap      3   \n",
       "80                   Kenapa ini fb, apk nya eror terus      3   \n",
       "85   Kenapa FB saya gada tombol pemberitahuannya ka...      3   \n",
       "92                      setatus tidk muncul di beranda      3   \n",
       "110                       Knp banyak sekali 4no disini      3   \n",
       "115  Fb saya kok aneh yaaa, fitur beranda pemberita...      3   \n",
       "124  Ekstra bonus maksudnya gimana min cara kerjanya..      3   \n",
       "164                                              Bagus      3   \n",
       "\n",
       "                                              contents  \n",
       "24                                              mantap  \n",
       "35               mohon bantu facebook nya biyar lancar  \n",
       "53                                         seru banget  \n",
       "64                                              mantap  \n",
       "80                                     fb apk nya eror  \n",
       "85   fb gada tombol pemberitahuannya kalo yg coment...  \n",
       "92                         setatus tidk muncul beranda  \n",
       "110                                            knp 4no  \n",
       "115  fb aneh yaaa fitur beranda pemberitahuan teman...  \n",
       "124               ekstra bonus maksud gimana min kerja  \n",
       "164                                              bagus  "
      ]
     },
     "execution_count": 20,
     "metadata": {},
     "output_type": "execute_result"
    }
   ],
   "source": [
    "rating3.head(11)"
   ]
  },
  {
   "cell_type": "code",
   "execution_count": 21,
   "metadata": {},
   "outputs": [],
   "source": [
    "# Fungsi untuk memberi label berdasarkan rating / score\n",
    "def label_sentiment(score):\n",
    "    if score >= 4:\n",
    "        return 'positive'\n",
    "    elif score <= 2:\n",
    "        return 'negative'\n",
    "    else:\n",
    "        return 'neutral'\n",
    "\n",
    "# Tambahkan kolom label\n",
    "facebook['label'] = facebook['score'].apply(label_sentiment)"
   ]
  },
  {
   "cell_type": "code",
   "execution_count": 22,
   "metadata": {},
   "outputs": [
    {
     "data": {
      "text/html": [
       "<div>\n",
       "<style scoped>\n",
       "    .dataframe tbody tr th:only-of-type {\n",
       "        vertical-align: middle;\n",
       "    }\n",
       "\n",
       "    .dataframe tbody tr th {\n",
       "        vertical-align: top;\n",
       "    }\n",
       "\n",
       "    .dataframe thead th {\n",
       "        text-align: right;\n",
       "    }\n",
       "</style>\n",
       "<table border=\"1\" class=\"dataframe\">\n",
       "  <thead>\n",
       "    <tr style=\"text-align: right;\">\n",
       "      <th></th>\n",
       "      <th>content</th>\n",
       "      <th>score</th>\n",
       "      <th>contents</th>\n",
       "      <th>label</th>\n",
       "    </tr>\n",
       "  </thead>\n",
       "  <tbody>\n",
       "    <tr>\n",
       "      <th>586737</th>\n",
       "      <td>Makin parah knapa ini FACEBOOK......</td>\n",
       "      <td>1</td>\n",
       "      <td>parah knapa facebook</td>\n",
       "      <td>negative</td>\n",
       "    </tr>\n",
       "    <tr>\n",
       "      <th>12647</th>\n",
       "      <td>Media sosial yang sungguh Luar Biasa</td>\n",
       "      <td>5</td>\n",
       "      <td>media sosial sungguh</td>\n",
       "      <td>positive</td>\n",
       "    </tr>\n",
       "    <tr>\n",
       "      <th>589777</th>\n",
       "      <td>Tidak netrall....</td>\n",
       "      <td>1</td>\n",
       "      <td>netrall</td>\n",
       "      <td>negative</td>\n",
       "    </tr>\n",
       "    <tr>\n",
       "      <th>108526</th>\n",
       "      <td>Buruk</td>\n",
       "      <td>1</td>\n",
       "      <td>buruk</td>\n",
       "      <td>negative</td>\n",
       "    </tr>\n",
       "    <tr>\n",
       "      <th>76427</th>\n",
       "      <td>Update th ini jelek market place nya di block</td>\n",
       "      <td>1</td>\n",
       "      <td>update th jelek market place nya block</td>\n",
       "      <td>negative</td>\n",
       "    </tr>\n",
       "    <tr>\n",
       "      <th>237613</th>\n",
       "      <td>Ok</td>\n",
       "      <td>4</td>\n",
       "      <td>ok</td>\n",
       "      <td>positive</td>\n",
       "    </tr>\n",
       "    <tr>\n",
       "      <th>403772</th>\n",
       "      <td>Mantap</td>\n",
       "      <td>5</td>\n",
       "      <td>mantap</td>\n",
       "      <td>positive</td>\n",
       "    </tr>\n",
       "    <tr>\n",
       "      <th>323242</th>\n",
       "      <td>Facebook knp? Ko setiap di buka langsung close...</td>\n",
       "      <td>1</td>\n",
       "      <td>facebook knp ko buka langsung close</td>\n",
       "      <td>negative</td>\n",
       "    </tr>\n",
       "    <tr>\n",
       "      <th>200052</th>\n",
       "      <td>Fasilitas berbagi pengalaman dan ilmu</td>\n",
       "      <td>5</td>\n",
       "      <td>fasilitas bagi alam ilmu</td>\n",
       "      <td>positive</td>\n",
       "    </tr>\n",
       "    <tr>\n",
       "      <th>419333</th>\n",
       "      <td>Wow</td>\n",
       "      <td>5</td>\n",
       "      <td>wow</td>\n",
       "      <td>positive</td>\n",
       "    </tr>\n",
       "    <tr>\n",
       "      <th>426395</th>\n",
       "      <td>Bagus saya suka tp banyak iklan</td>\n",
       "      <td>5</td>\n",
       "      <td>bagus suka tp iklan</td>\n",
       "      <td>positive</td>\n",
       "    </tr>\n",
       "  </tbody>\n",
       "</table>\n",
       "</div>"
      ],
      "text/plain": [
       "                                                  content  score  \\\n",
       "586737               Makin parah knapa ini FACEBOOK......      1   \n",
       "12647                Media sosial yang sungguh Luar Biasa      5   \n",
       "589777                                  Tidak netrall....      1   \n",
       "108526                                              Buruk      1   \n",
       "76427       Update th ini jelek market place nya di block      1   \n",
       "237613                                                 Ok      4   \n",
       "403772                                             Mantap      5   \n",
       "323242  Facebook knp? Ko setiap di buka langsung close...      1   \n",
       "200052              Fasilitas berbagi pengalaman dan ilmu      5   \n",
       "419333                                                Wow      5   \n",
       "426395                    Bagus saya suka tp banyak iklan      5   \n",
       "\n",
       "                                      contents     label  \n",
       "586737                    parah knapa facebook  negative  \n",
       "12647                     media sosial sungguh  positive  \n",
       "589777                                 netrall  negative  \n",
       "108526                                   buruk  negative  \n",
       "76427   update th jelek market place nya block  negative  \n",
       "237613                                      ok  positive  \n",
       "403772                                  mantap  positive  \n",
       "323242     facebook knp ko buka langsung close  negative  \n",
       "200052                fasilitas bagi alam ilmu  positive  \n",
       "419333                                     wow  positive  \n",
       "426395                     bagus suka tp iklan  positive  "
      ]
     },
     "execution_count": 22,
     "metadata": {},
     "output_type": "execute_result"
    }
   ],
   "source": [
    "facebook.sample(11)"
   ]
  },
  {
   "cell_type": "code",
   "execution_count": 23,
   "metadata": {},
   "outputs": [
    {
     "name": "stderr",
     "output_type": "stream",
     "text": [
      "C:\\Users\\Akmal Fauzan\\AppData\\Local\\Temp\\ipykernel_33544\\1452771361.py:3: FutureWarning: \n",
      "\n",
      "Passing `palette` without assigning `hue` is deprecated and will be removed in v0.14.0. Assign the `x` variable to `hue` and set `legend=False` for the same effect.\n",
      "\n",
      "  sns.countplot(x='label', data=facebook, palette='mako')\n"
     ]
    },
    {
     "data": {
      "image/png": "[encoded data removed]",
      "text/plain": [
       "<Figure size 800x600 with 1 Axes>"
      ]
     },
     "metadata": {},
     "output_type": "display_data"
    }
   ],
   "source": [
    "# Visualisasi distribusi label\n",
    "plt.figure(figsize=(8, 6))\n",
    "sns.countplot(x='label', data=facebook, palette='mako')\n",
    "plt.title('Distribusi Label Sentimen')\n",
    "plt.xlabel('Sentimen')\n",
    "plt.ylabel('Jumlah')\n",
    "plt.show()"
   ]
  },
  {
   "cell_type": "code",
   "execution_count": 31,
   "metadata": {},
   "outputs": [],
   "source": [
    "from sklearn.model_selection import train_test_split\n",
    "from sklearn.naive_bayes import MultinomialNB\n",
    "from sklearn.metrics import accuracy_score, classification_report, confusion_matrix\n",
    "from imblearn.over_sampling import SMOTE"
   ]
  },
  {
   "cell_type": "code",
   "execution_count": 32,
   "metadata": {},
   "outputs": [],
   "source": [
    "# Split data\n",
    "X_train, X_test, y_train, y_test = train_test_split(X, facebook['label'], test_size=0.2, random_state=42)"
   ]
  },
  {
   "cell_type": "code",
   "execution_count": 33,
   "metadata": {},
   "outputs": [],
   "source": [
    "# # Terapkan SMOTE\n",
    "# smote = SMOTE(random_state=42)\n",
    "# X_train, y_train = smote.fit_resample(X_train, y_train)"
   ]
  },
  {
   "cell_type": "code",
   "execution_count": 34,
   "metadata": {},
   "outputs": [
    {
     "data": {
      "text/html": [
       "<style>#sk-container-id-2 {color: black;}#sk-container-id-2 pre{padding: 0;}#sk-container-id-2 div.sk-toggleable {background-color: white;}#sk-container-id-2 label.sk-toggleable__label {cursor: pointer;display: block;width: 100%;margin-bottom: 0;padding: 0.3em;box-sizing: border-box;text-align: center;}#sk-container-id-2 label.sk-toggleable__label-arrow:before {content: \"▸\";float: left;margin-right: 0.25em;color: #696969;}#sk-container-id-2 label.sk-toggleable__label-arrow:hover:before {color: black;}#sk-container-id-2 div.sk-estimator:hover label.sk-toggleable__label-arrow:before {color: black;}#sk-container-id-2 div.sk-toggleable__content {max-height: 0;max-width: 0;overflow: hidden;text-align: left;background-color: #f0f8ff;}#sk-container-id-2 div.sk-toggleable__content pre {margin: 0.2em;color: black;border-radius: 0.25em;background-color: #f0f8ff;}#sk-container-id-2 input.sk-toggleable__control:checked~div.sk-toggleable__content {max-height: 200px;max-width: 100%;overflow: auto;}#sk-container-id-2 input.sk-toggleable__control:checked~label.sk-toggleable__label-arrow:before {content: \"▾\";}#sk-container-id-2 div.sk-estimator input.sk-toggleable__control:checked~label.sk-toggleable__label {background-color: #d4ebff;}#sk-container-id-2 div.sk-label input.sk-toggleable__control:checked~label.sk-toggleable__label {background-color: #d4ebff;}#sk-container-id-2 input.sk-hidden--visually {border: 0;clip: rect(1px 1px 1px 1px);clip: rect(1px, 1px, 1px, 1px);height: 1px;margin: -1px;overflow: hidden;padding: 0;position: absolute;width: 1px;}#sk-container-id-2 div.sk-estimator {font-family: monospace;background-color: #f0f8ff;border: 1px dotted black;border-radius: 0.25em;box-sizing: border-box;margin-bottom: 0.5em;}#sk-container-id-2 div.sk-estimator:hover {background-color: #d4ebff;}#sk-container-id-2 div.sk-parallel-item::after {content: \"\";width: 100%;border-bottom: 1px solid gray;flex-grow: 1;}#sk-container-id-2 div.sk-label:hover label.sk-toggleable__label {background-color: #d4ebff;}#sk-container-id-2 div.sk-serial::before {content: \"\";position: absolute;border-left: 1px solid gray;box-sizing: border-box;top: 0;bottom: 0;left: 50%;z-index: 0;}#sk-container-id-2 div.sk-serial {display: flex;flex-direction: column;align-items: center;background-color: white;padding-right: 0.2em;padding-left: 0.2em;position: relative;}#sk-container-id-2 div.sk-item {position: relative;z-index: 1;}#sk-container-id-2 div.sk-parallel {display: flex;align-items: stretch;justify-content: center;background-color: white;position: relative;}#sk-container-id-2 div.sk-item::before, #sk-container-id-2 div.sk-parallel-item::before {content: \"\";position: absolute;border-left: 1px solid gray;box-sizing: border-box;top: 0;bottom: 0;left: 50%;z-index: -1;}#sk-container-id-2 div.sk-parallel-item {display: flex;flex-direction: column;z-index: 1;position: relative;background-color: white;}#sk-container-id-2 div.sk-parallel-item:first-child::after {align-self: flex-end;width: 50%;}#sk-container-id-2 div.sk-parallel-item:last-child::after {align-self: flex-start;width: 50%;}#sk-container-id-2 div.sk-parallel-item:only-child::after {width: 0;}#sk-container-id-2 div.sk-dashed-wrapped {border: 1px dashed gray;margin: 0 0.4em 0.5em 0.4em;box-sizing: border-box;padding-bottom: 0.4em;background-color: white;}#sk-container-id-2 div.sk-label label {font-family: monospace;font-weight: bold;display: inline-block;line-height: 1.2em;}#sk-container-id-2 div.sk-label-container {text-align: center;}#sk-container-id-2 div.sk-container {/* jupyter's `normalize.less` sets `[hidden] { display: none; }` but bootstrap.min.css set `[hidden] { display: none !important; }` so we also need the `!important` here to be able to override the default hidden behavior on the sphinx rendered scikit-learn.org. See: https://github.com/scikit-learn/scikit-learn/issues/21755 */display: inline-block !important;position: relative;}#sk-container-id-2 div.sk-text-repr-fallback {display: none;}</style><div id=\"sk-container-id-2\" class=\"sk-top-container\"><div class=\"sk-text-repr-fallback\"><pre>MultinomialNB()</pre><b>In a Jupyter environment, please rerun this cell to show the HTML representation or trust the notebook. <br />On GitHub, the HTML representation is unable to render, please try loading this page with nbviewer.org.</b></div><div class=\"sk-container\" hidden><div class=\"sk-item\"><div class=\"sk-estimator sk-toggleable\"><input class=\"sk-toggleable__control sk-hidden--visually\" id=\"sk-estimator-id-2\" type=\"checkbox\" checked><label for=\"sk-estimator-id-2\" class=\"sk-toggleable__label sk-toggleable__label-arrow\">MultinomialNB</label><div class=\"sk-toggleable__content\"><pre>MultinomialNB()</pre></div></div></div></div></div>"
      ],
      "text/plain": [
       "MultinomialNB()"
      ]
     },
     "execution_count": 34,
     "metadata": {},
     "output_type": "execute_result"
    }
   ],
   "source": [
    "# Train Naive Bayes classifier\n",
    "nbModel = MultinomialNB()\n",
    "nbModel.fit(X_train, y_train)"
   ]
  },
  {
   "cell_type": "code",
   "execution_count": 35,
   "metadata": {},
   "outputs": [],
   "source": [
    "# Predict sentiment\n",
    "y_pred = nbModel.predict(X_test)"
   ]
  },
  {
   "cell_type": "code",
   "execution_count": 36,
   "metadata": {},
   "outputs": [
    {
     "name": "stdout",
     "output_type": "stream",
     "text": [
      "Accuracy: 0.7827968487623121\n",
      "              precision    recall  f1-score   support\n",
      "\n",
      "    negative       0.74      0.71      0.73     41121\n",
      "     neutral       0.30      0.00      0.00      6659\n",
      "    positive       0.80      0.90      0.85     71919\n",
      "\n",
      "    accuracy                           0.78    119699\n",
      "   macro avg       0.61      0.54      0.53    119699\n",
      "weighted avg       0.75      0.78      0.76    119699\n",
      "\n"
     ]
    }
   ],
   "source": [
    "accuracy = accuracy_score(y_test, y_pred)\n",
    "print(f\"Accuracy: {accuracy}\")\n",
    "print(classification_report(y_test, y_pred))"
   ]
  },
  {
   "cell_type": "code",
   "execution_count": 37,
   "metadata": {},
   "outputs": [
    {
     "data": {
      "image/png": "[encoded data removed]",
      "text/plain": [
       "<Figure size 800x600 with 2 Axes>"
      ]
     },
     "metadata": {},
     "output_type": "display_data"
    }
   ],
   "source": [
    "cm = confusion_matrix(y_test, y_pred)\n",
    "\n",
    "# Visualisasi Confusion Matrix\n",
    "plt.figure(figsize=(8, 6))\n",
    "sns.heatmap(cm, annot=True, fmt='d', cmap='Blues', xticklabels=['negative', 'neutral', 'positive'], yticklabels=['negative', 'neutral', 'positive'])\n",
    "plt.xlabel('Predicted')\n",
    "plt.ylabel('Actual')\n",
    "plt.title('Confusion Matrix')\n",
    "plt.show()"
   ]
  },
  {
   "cell_type": "code",
   "execution_count": null,
   "metadata": {},
   "outputs": [],
   "source": []
  }
 ],
 "metadata": {
  "kernelspec": {
   "display_name": "Python 3",
   "language": "python",
   "name": "python3"
  },
  "language_info": {
   "codemirror_mode": {
    "name": "ipython",
    "version": 3
   },
   "file_extension": ".py",
   "mimetype": "text/x-python",
   "name": "python",
   "nbconvert_exporter": "python",
   "pygments_lexer": "ipython3",
   "version": "3.11.4"
  }
 },
 "nbformat": 4,
 "nbformat_minor": 2
}
