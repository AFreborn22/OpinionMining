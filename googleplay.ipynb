{
 "cells": [
  {
   "cell_type": "code",
   "execution_count": 29,
   "metadata": {},
   "outputs": [],
   "source": [
    "from google_play_scraper import app, reviews_all\n",
    "import pandas as pd"
   ]
  },
  {
   "cell_type": "code",
   "execution_count": 30,
   "metadata": {},
   "outputs": [],
   "source": [
    "app_id = 'com.facebook.katana'"
   ]
  },
  {
   "cell_type": "code",
   "execution_count": 31,
   "metadata": {},
   "outputs": [
    {
     "name": "stdout",
     "output_type": "stream",
     "text": [
      "App Info: {'title': 'Facebook', 'description': \"Where real people propel your curiosity. Whether you’re thrifting gear, showing a reel to that group who gets it, or sharing laughs over fun images reimagined by AI, Facebook helps you make things happen like no other social network.\\r\\n\\r\\nExplore and expand your interests: \\r\\n* Ask Meta AI to search topics that matter to you, and get instant results more interactive than just text\\r\\n* Shop Marketplace for deals and hidden gems to nurture your hobbies\\r\\n* Personalize your Feed to see more of what you like, less of what you don’t\\r\\n* Dive into reels and videos for how-to’s or quick entertainment\\r\\n\\r\\nConnect with people and communities:\\r\\n* Join groups to learn tips from real people who’ve been there, done that\\r\\n* Turn on sharing to Instagram to save time\\r\\n* Privately message relatable posts that only your BFF will get or that Reels trend everyone’s talking about\\r\\n\\r\\nShare your world:\\r\\n* Use generative AI to delight friends with custom images, or just get help writing posts\\r\\n* Customize your profile to choose how you show up and who sees your posts\\r\\n* Effortlessly create reels from trending templates, or showcase your creativity with a full suite of editing tools\\r\\n* Capture moments on the fly with stories\\r\\n\\r\\nSome features may not be available in your country or region. \\r\\n\\r\\nTerms & Policies: https://www.facebook.com/policies_center\\r\\n\\r\\nLearn how we're working to help keep our communities safe across Meta technologies at the Meta Safety Center: https://about.meta.com/actions/safety\", 'descriptionHTML': 'Where real people propel your curiosity. Whether you’re thrifting gear, showing a reel to that group who gets it, or sharing laughs over fun images reimagined by AI, Facebook helps you make things happen like no other social network.<br><br>Explore and expand your interests: <br>* Ask Meta AI to search topics that matter to you, and get instant results more interactive than just text<br>* Shop Marketplace for deals and hidden gems to nurture your hobbies<br>* Personalize your Feed to see more of what you like, less of what you don’t<br>* Dive into reels and videos for how-to’s or quick entertainment<br><br>Connect with people and communities:<br>* Join groups to learn tips from real people who’ve been there, done that<br>* Turn on sharing to Instagram to save time<br>* Privately message relatable posts that only your BFF will get or that Reels trend everyone’s talking about<br><br>Share your world:<br>* Use generative AI to delight friends with custom images, or just get help writing posts<br>* Customize your profile to choose how you show up and who sees your posts<br>* Effortlessly create reels from trending templates, or showcase your creativity with a full suite of editing tools<br>* Capture moments on the fly with stories<br><br>Some features may not be available in your country or region. <br><br>Terms &amp; Policies: https://www.facebook.com/policies_center<br><br>Learn how we&#39;re working to help keep our communities safe across Meta technologies at the Meta Safety Center: https://about.meta.com/actions/safety', 'summary': 'Explore the things you love', 'installs': '5,000,000,000+', 'minInstalls': 5000000000, 'realInstalls': 9791360185, 'score': 4.276, 'ratings': 149777425, 'reviews': 4244500, 'histogram': [18343956, 2996000, 6414738, 13245506, 108777204], 'price': 0, 'free': True, 'currency': 'USD', 'sale': False, 'saleTime': None, 'originalPrice': None, 'saleText': None, 'offersIAP': True, 'inAppProductPrice': '$0.05 - $5,000.00 per item', 'developer': 'Meta Platforms, Inc.', 'developerId': 'Meta+Platforms,+Inc.', 'developerEmail': 'facebook.android@fb.com', 'developerWebsite': 'https://www.facebook.com/facebook', 'developerAddress': '1 Hacker Way\\nMenlo Park, CA 94025', 'privacyPolicy': 'https://www.facebook.com/about/privacy/', 'genre': 'Social', 'genreId': 'SOCIAL', 'categories': [{'name': 'Social', 'id': 'SOCIAL'}], 'icon': 'https://play-lh.googleusercontent.com/KCMTYuiTrKom4Vyf0G4foetVOwhKWzNbHWumV73IXexAIy5TTgZipL52WTt8ICL-oIo', 'headerImage': 'https://play-lh.googleusercontent.com/GQXolHad8JJu_qR90bF9krWLP66RimpNgskSMXEcmoZ1znWfgsB8uCtM1uGC0n_lMA', 'screenshots': ['https://play-lh.googleusercontent.com/yltemK6xddx3AdaqfoI2RYFB1rHDpDxkZZl8I_3uWqOR_sGAj20sCE0a1hS_zL59mWs', 'https://play-lh.googleusercontent.com/uPC3VsBbDU5IakuOsLLFvFppuKyV6IDEIrX8EZRlR4EiRisRuSNrYCxhc30HiduWdkVi', 'https://play-lh.googleusercontent.com/LqFs9L14viQoszsQtSqqDVk3m4bKXlDSYUIYii0e7U_y0oXxASPtoxj2Pt4gV8KHDDU', 'https://play-lh.googleusercontent.com/DH_oPwYKAm6_3xjvfG8yio4xQayew62B658_4w3nIyxGqRiQncG8jX3fa3qmRZ_EQxU', 'https://play-lh.googleusercontent.com/3aTPofuVkgP4XlICCyVPZgp8ZGDXPeezeZgNh4YtCY6VUNqCg06AXYGPWRvAq-jF0fk', 'https://play-lh.googleusercontent.com/ioi2RTrBkBtTvlXtksF9oOmmEDaOswgm02oIg6KRh5QsmdXBTUxCe7zeOCglCeib_Lxy', 'https://play-lh.googleusercontent.com/b2kukObx5S3NrTPDmSEz3_GtiZUkhhXErUQgE4gBxbvYKVyJH3M19ADpkCO4UHztVg', 'https://play-lh.googleusercontent.com/WGvXMI3Vshmv6IMws7YEkzXUrV1vOh-P7Jv8cuSR8Xwm52fxjd-V4OhTKTWTqEZaIik'], 'video': 'https://www.youtube.com/embed/nt7j4taPB5E?ps=play&vq=large&rel=0&autohide=1&showinfo=0', 'videoImage': 'https://play-lh.googleusercontent.com/GQXolHad8JJu_qR90bF9krWLP66RimpNgskSMXEcmoZ1znWfgsB8uCtM1uGC0n_lMA', 'contentRating': 'Teen', 'contentRatingDescription': None, 'adSupported': True, 'containsAds': True, 'released': None, 'lastUpdatedOn': 'Aug 6, 2024', 'updated': 1722997401, 'version': 'Varies with device', 'comments': [], 'appId': 'com.facebook.katana', 'url': 'https://play.google.com/store/apps/details?id=com.facebook.katana&hl=en&gl=us'}\n"
     ]
    }
   ],
   "source": [
    "# Mendapatkan informasi aplikasi\n",
    "app_info = app(app_id)\n",
    "print(\"App Info:\", app_info)"
   ]
  },
  {
   "cell_type": "code",
   "execution_count": 32,
   "metadata": {},
   "outputs": [],
   "source": [
    "# Mendapatkan semua review\n",
    "reviews = reviews_all(\n",
    "    app_id,\n",
    "    sleep_milliseconds=0,  # Menunggu beberapa waktu di antara permintaan untuk menghindari diblokir\n",
    "    lang='id',  # Bahasa Indonesia\n",
    "    country='id'  # Negara Indonesia\n",
    ")"
   ]
  },
  {
   "cell_type": "code",
   "execution_count": 33,
   "metadata": {},
   "outputs": [],
   "source": [
    "# Konversi review ke dalam DataFrame\n",
    "reviews_df = pd.DataFrame(reviews)\n",
    "reviews_df.to_csv('playstore_reviews.csv', index=False)"
   ]
  },
  {
   "cell_type": "code",
   "execution_count": 34,
   "metadata": {},
   "outputs": [],
   "source": [
    "facebookReviews  = pd.read_csv('playstore_reviews.csv')"
   ]
  },
  {
   "cell_type": "code",
   "execution_count": 35,
   "metadata": {},
   "outputs": [
    {
     "data": {
      "text/html": [
       "<div>\n",
       "<style scoped>\n",
       "    .dataframe tbody tr th:only-of-type {\n",
       "        vertical-align: middle;\n",
       "    }\n",
       "\n",
       "    .dataframe tbody tr th {\n",
       "        vertical-align: top;\n",
       "    }\n",
       "\n",
       "    .dataframe thead th {\n",
       "        text-align: right;\n",
       "    }\n",
       "</style>\n",
       "<table border=\"1\" class=\"dataframe\">\n",
       "  <thead>\n",
       "    <tr style=\"text-align: right;\">\n",
       "      <th></th>\n",
       "      <th>reviewId</th>\n",
       "      <th>userName</th>\n",
       "      <th>userImage</th>\n",
       "      <th>content</th>\n",
       "      <th>score</th>\n",
       "      <th>thumbsUpCount</th>\n",
       "      <th>reviewCreatedVersion</th>\n",
       "      <th>at</th>\n",
       "      <th>replyContent</th>\n",
       "      <th>repliedAt</th>\n",
       "      <th>appVersion</th>\n",
       "    </tr>\n",
       "  </thead>\n",
       "  <tbody>\n",
       "    <tr>\n",
       "      <th>0</th>\n",
       "      <td>62d03ac8-3292-4673-9e92-23052e820df3</td>\n",
       "      <td>Pengguna Google</td>\n",
       "      <td>https://play-lh.googleusercontent.com/EGemoI2N...</td>\n",
       "      <td>Facebook tuh klo mode gratis gk bisa lama digu...</td>\n",
       "      <td>1</td>\n",
       "      <td>0</td>\n",
       "      <td>436.0.0.35.101</td>\n",
       "      <td>2024-08-06 21:31:11</td>\n",
       "      <td>NaN</td>\n",
       "      <td>NaN</td>\n",
       "      <td>436.0.0.35.101</td>\n",
       "    </tr>\n",
       "    <tr>\n",
       "      <th>1</th>\n",
       "      <td>8c4b1396-aeb6-4251-b3b8-524d6decfc29</td>\n",
       "      <td>Pengguna Google</td>\n",
       "      <td>https://play-lh.googleusercontent.com/EGemoI2N...</td>\n",
       "      <td>Keren</td>\n",
       "      <td>5</td>\n",
       "      <td>0</td>\n",
       "      <td>NaN</td>\n",
       "      <td>2024-08-06 21:29:59</td>\n",
       "      <td>NaN</td>\n",
       "      <td>NaN</td>\n",
       "      <td>NaN</td>\n",
       "    </tr>\n",
       "    <tr>\n",
       "      <th>2</th>\n",
       "      <td>433768f1-4325-4077-82b0-e7f111286250</td>\n",
       "      <td>Pengguna Google</td>\n",
       "      <td>https://play-lh.googleusercontent.com/EGemoI2N...</td>\n",
       "      <td>oke</td>\n",
       "      <td>5</td>\n",
       "      <td>0</td>\n",
       "      <td>475.1.0.46.82</td>\n",
       "      <td>2024-08-06 21:29:21</td>\n",
       "      <td>NaN</td>\n",
       "      <td>NaN</td>\n",
       "      <td>475.1.0.46.82</td>\n",
       "    </tr>\n",
       "    <tr>\n",
       "      <th>3</th>\n",
       "      <td>103280b4-cf1f-448f-9d1d-c3c00511397f</td>\n",
       "      <td>Pengguna Google</td>\n",
       "      <td>https://play-lh.googleusercontent.com/EGemoI2N...</td>\n",
       "      <td>Mantap</td>\n",
       "      <td>4</td>\n",
       "      <td>0</td>\n",
       "      <td>NaN</td>\n",
       "      <td>2024-08-06 21:27:31</td>\n",
       "      <td>NaN</td>\n",
       "      <td>NaN</td>\n",
       "      <td>NaN</td>\n",
       "    </tr>\n",
       "    <tr>\n",
       "      <th>4</th>\n",
       "      <td>2c8c9cb4-d674-4a56-b322-02f4b411f344</td>\n",
       "      <td>Pengguna Google</td>\n",
       "      <td>https://play-lh.googleusercontent.com/EGemoI2N...</td>\n",
       "      <td>👍👍👍👍</td>\n",
       "      <td>5</td>\n",
       "      <td>0</td>\n",
       "      <td>NaN</td>\n",
       "      <td>2024-08-06 21:27:17</td>\n",
       "      <td>NaN</td>\n",
       "      <td>NaN</td>\n",
       "      <td>NaN</td>\n",
       "    </tr>\n",
       "  </tbody>\n",
       "</table>\n",
       "</div>"
      ],
      "text/plain": [
       "                               reviewId         userName  \\\n",
       "0  62d03ac8-3292-4673-9e92-23052e820df3  Pengguna Google   \n",
       "1  8c4b1396-aeb6-4251-b3b8-524d6decfc29  Pengguna Google   \n",
       "2  433768f1-4325-4077-82b0-e7f111286250  Pengguna Google   \n",
       "3  103280b4-cf1f-448f-9d1d-c3c00511397f  Pengguna Google   \n",
       "4  2c8c9cb4-d674-4a56-b322-02f4b411f344  Pengguna Google   \n",
       "\n",
       "                                           userImage  \\\n",
       "0  https://play-lh.googleusercontent.com/EGemoI2N...   \n",
       "1  https://play-lh.googleusercontent.com/EGemoI2N...   \n",
       "2  https://play-lh.googleusercontent.com/EGemoI2N...   \n",
       "3  https://play-lh.googleusercontent.com/EGemoI2N...   \n",
       "4  https://play-lh.googleusercontent.com/EGemoI2N...   \n",
       "\n",
       "                                             content  score  thumbsUpCount  \\\n",
       "0  Facebook tuh klo mode gratis gk bisa lama digu...      1              0   \n",
       "1                                              Keren      5              0   \n",
       "2                                                oke      5              0   \n",
       "3                                             Mantap      4              0   \n",
       "4                                               👍👍👍👍      5              0   \n",
       "\n",
       "  reviewCreatedVersion                   at  replyContent  repliedAt  \\\n",
       "0       436.0.0.35.101  2024-08-06 21:31:11           NaN        NaN   \n",
       "1                  NaN  2024-08-06 21:29:59           NaN        NaN   \n",
       "2        475.1.0.46.82  2024-08-06 21:29:21           NaN        NaN   \n",
       "3                  NaN  2024-08-06 21:27:31           NaN        NaN   \n",
       "4                  NaN  2024-08-06 21:27:17           NaN        NaN   \n",
       "\n",
       "       appVersion  \n",
       "0  436.0.0.35.101  \n",
       "1             NaN  \n",
       "2   475.1.0.46.82  \n",
       "3             NaN  \n",
       "4             NaN  "
      ]
     },
     "execution_count": 35,
     "metadata": {},
     "output_type": "execute_result"
    }
   ],
   "source": [
    "facebookReviews.head()"
   ]
  },
  {
   "cell_type": "code",
   "execution_count": 36,
   "metadata": {},
   "outputs": [],
   "source": [
    "facebook = facebookReviews[['content', 'score']]"
   ]
  },
  {
   "cell_type": "code",
   "execution_count": 37,
   "metadata": {},
   "outputs": [
    {
     "data": {
      "text/html": [
       "<div>\n",
       "<style scoped>\n",
       "    .dataframe tbody tr th:only-of-type {\n",
       "        vertical-align: middle;\n",
       "    }\n",
       "\n",
       "    .dataframe tbody tr th {\n",
       "        vertical-align: top;\n",
       "    }\n",
       "\n",
       "    .dataframe thead th {\n",
       "        text-align: right;\n",
       "    }\n",
       "</style>\n",
       "<table border=\"1\" class=\"dataframe\">\n",
       "  <thead>\n",
       "    <tr style=\"text-align: right;\">\n",
       "      <th></th>\n",
       "      <th>content</th>\n",
       "      <th>score</th>\n",
       "    </tr>\n",
       "  </thead>\n",
       "  <tbody>\n",
       "    <tr>\n",
       "      <th>0</th>\n",
       "      <td>Facebook tuh klo mode gratis gk bisa lama digu...</td>\n",
       "      <td>1</td>\n",
       "    </tr>\n",
       "    <tr>\n",
       "      <th>1</th>\n",
       "      <td>Keren</td>\n",
       "      <td>5</td>\n",
       "    </tr>\n",
       "    <tr>\n",
       "      <th>2</th>\n",
       "      <td>oke</td>\n",
       "      <td>5</td>\n",
       "    </tr>\n",
       "    <tr>\n",
       "      <th>3</th>\n",
       "      <td>Mantap</td>\n",
       "      <td>4</td>\n",
       "    </tr>\n",
       "    <tr>\n",
       "      <th>4</th>\n",
       "      <td>👍👍👍👍</td>\n",
       "      <td>5</td>\n",
       "    </tr>\n",
       "  </tbody>\n",
       "</table>\n",
       "</div>"
      ],
      "text/plain": [
       "                                             content  score\n",
       "0  Facebook tuh klo mode gratis gk bisa lama digu...      1\n",
       "1                                              Keren      5\n",
       "2                                                oke      5\n",
       "3                                             Mantap      4\n",
       "4                                               👍👍👍👍      5"
      ]
     },
     "execution_count": 37,
     "metadata": {},
     "output_type": "execute_result"
    }
   ],
   "source": [
    "facebook.head()"
   ]
  },
  {
   "cell_type": "code",
   "execution_count": 38,
   "metadata": {},
   "outputs": [
    {
     "data": {
      "text/plain": [
       "(598500, 2)"
      ]
     },
     "execution_count": 38,
     "metadata": {},
     "output_type": "execute_result"
    }
   ],
   "source": [
    "facebook.shape"
   ]
  },
  {
   "cell_type": "code",
   "execution_count": 39,
   "metadata": {},
   "outputs": [
    {
     "name": "stdout",
     "output_type": "stream",
     "text": [
      "<class 'pandas.core.frame.DataFrame'>\n",
      "RangeIndex: 598500 entries, 0 to 598499\n",
      "Data columns (total 2 columns):\n",
      " #   Column   Non-Null Count   Dtype \n",
      "---  ------   --------------   ----- \n",
      " 0   content  598494 non-null  object\n",
      " 1   score    598500 non-null  int64 \n",
      "dtypes: int64(1), object(1)\n",
      "memory usage: 9.1+ MB\n"
     ]
    }
   ],
   "source": [
    "facebook.info()"
   ]
  },
  {
   "cell_type": "code",
   "execution_count": 40,
   "metadata": {},
   "outputs": [
    {
     "data": {
      "text/plain": [
       "content    6\n",
       "score      0\n",
       "dtype: int64"
      ]
     },
     "execution_count": 40,
     "metadata": {},
     "output_type": "execute_result"
    }
   ],
   "source": [
    "facebook.isnull().sum()"
   ]
  },
  {
   "cell_type": "code",
   "execution_count": 41,
   "metadata": {},
   "outputs": [],
   "source": [
    "facebook = facebook.dropna()"
   ]
  },
  {
   "cell_type": "code",
   "execution_count": 42,
   "metadata": {},
   "outputs": [
    {
     "name": "stderr",
     "output_type": "stream",
     "text": [
      "[nltk_data] Downloading package stopwords to C:\\Users\\Akmal\n",
      "[nltk_data]     Fauzan\\AppData\\Roaming\\nltk_data...\n",
      "[nltk_data]   Package stopwords is already up-to-date!\n",
      "[nltk_data] Downloading package punkt to C:\\Users\\Akmal\n",
      "[nltk_data]     Fauzan\\AppData\\Roaming\\nltk_data...\n",
      "[nltk_data]   Package punkt is already up-to-date!\n",
      "[nltk_data] Downloading package wordnet to C:\\Users\\Akmal\n",
      "[nltk_data]     Fauzan\\AppData\\Roaming\\nltk_data...\n",
      "[nltk_data]   Package wordnet is already up-to-date!\n"
     ]
    },
    {
     "data": {
      "text/plain": [
       "True"
      ]
     },
     "execution_count": 42,
     "metadata": {},
     "output_type": "execute_result"
    }
   ],
   "source": [
    "import nltk\n",
    "\n",
    "nltk.download('stopwords')\n",
    "nltk.download('punkt')\n",
    "nltk.download('wordnet')"
   ]
  },
  {
   "cell_type": "code",
   "execution_count": 43,
   "metadata": {},
   "outputs": [],
   "source": [
    "import string\n",
    "from nltk.corpus import stopwords\n",
    "from nltk.tokenize import word_tokenize\n",
    "from nltk.stem import WordNetLemmatizer\n",
    "from sklearn.feature_extraction.text import TfidfVectorizer\n",
    "\n",
    "def preprocess_text(text):\n",
    "    # Remove punctuation\n",
    "    text = text.translate(str.maketrans('', '', string.punctuation))\n",
    "    \n",
    "    # Lowercase the text\n",
    "    text = text.lower()\n",
    "    \n",
    "    # Tokenization\n",
    "    words = word_tokenize(text)\n",
    "    \n",
    "    # Remove stop words\n",
    "    stop_words = set(stopwords.words('indonesian')) \n",
    "    words = [word for word in words if word not in stop_words]\n",
    "    \n",
    "    # Lemmatization\n",
    "    lemmatizer = WordNetLemmatizer()\n",
    "    words = [lemmatizer.lemmatize(word) for word in words]\n",
    "    \n",
    "    return ' '.join(words)"
   ]
  },
  {
   "cell_type": "code",
   "execution_count": 44,
   "metadata": {},
   "outputs": [],
   "source": [
    "#melakukan perubahan dan menambahkan kolom baru pada kolom yang berhasil di bersihkan\n",
    "facebook['contents'] = facebook['content'].apply(preprocess_text)"
   ]
  },
  {
   "cell_type": "code",
   "execution_count": 45,
   "metadata": {},
   "outputs": [
    {
     "data": {
      "text/html": [
       "<div>\n",
       "<style scoped>\n",
       "    .dataframe tbody tr th:only-of-type {\n",
       "        vertical-align: middle;\n",
       "    }\n",
       "\n",
       "    .dataframe tbody tr th {\n",
       "        vertical-align: top;\n",
       "    }\n",
       "\n",
       "    .dataframe thead th {\n",
       "        text-align: right;\n",
       "    }\n",
       "</style>\n",
       "<table border=\"1\" class=\"dataframe\">\n",
       "  <thead>\n",
       "    <tr style=\"text-align: right;\">\n",
       "      <th></th>\n",
       "      <th>content</th>\n",
       "      <th>score</th>\n",
       "      <th>contents</th>\n",
       "    </tr>\n",
       "  </thead>\n",
       "  <tbody>\n",
       "    <tr>\n",
       "      <th>548000</th>\n",
       "      <td>edo</td>\n",
       "      <td>5</td>\n",
       "      <td>edo</td>\n",
       "    </tr>\n",
       "    <tr>\n",
       "      <th>210548</th>\n",
       "      <td>👍</td>\n",
       "      <td>5</td>\n",
       "      <td>👍</td>\n",
       "    </tr>\n",
       "    <tr>\n",
       "      <th>568769</th>\n",
       "      <td>harus lebih berkeprimanusiaan...</td>\n",
       "      <td>1</td>\n",
       "      <td>berkeprimanusiaan</td>\n",
       "    </tr>\n",
       "    <tr>\n",
       "      <th>22058</th>\n",
       "      <td>Makin lama makin gokil aja nih aplikasi, makin...</td>\n",
       "      <td>5</td>\n",
       "      <td>gokil aja nih aplikasi luas jangkauan perteman...</td>\n",
       "    </tr>\n",
       "    <tr>\n",
       "      <th>27485</th>\n",
       "      <td>Facebook mantap👍🏼</td>\n",
       "      <td>5</td>\n",
       "      <td>facebook mantap👍🏼</td>\n",
       "    </tr>\n",
       "    <tr>\n",
       "      <th>529037</th>\n",
       "      <td>Asik</td>\n",
       "      <td>2</td>\n",
       "      <td>asik</td>\n",
       "    </tr>\n",
       "    <tr>\n",
       "      <th>410457</th>\n",
       "      <td>Saya kasi bintang satu dulu</td>\n",
       "      <td>1</td>\n",
       "      <td>kasi bintang</td>\n",
       "    </tr>\n",
       "    <tr>\n",
       "      <th>263360</th>\n",
       "      <td>bgus</td>\n",
       "      <td>5</td>\n",
       "      <td>bgus</td>\n",
       "    </tr>\n",
       "    <tr>\n",
       "      <th>368571</th>\n",
       "      <td>Bagus</td>\n",
       "      <td>3</td>\n",
       "      <td>bagus</td>\n",
       "    </tr>\n",
       "    <tr>\n",
       "      <th>202819</th>\n",
       "      <td>Too bad for my account. It maybe safe. But it'...</td>\n",
       "      <td>1</td>\n",
       "      <td>too bad for my account it maybe safe but it to...</td>\n",
       "    </tr>\n",
       "    <tr>\n",
       "      <th>396737</th>\n",
       "      <td>Mantap</td>\n",
       "      <td>5</td>\n",
       "      <td>mantap</td>\n",
       "    </tr>\n",
       "  </tbody>\n",
       "</table>\n",
       "</div>"
      ],
      "text/plain": [
       "                                                  content  score  \\\n",
       "548000                                                edo      5   \n",
       "210548                                                  👍      5   \n",
       "568769                   harus lebih berkeprimanusiaan...      1   \n",
       "22058   Makin lama makin gokil aja nih aplikasi, makin...      5   \n",
       "27485                                   Facebook mantap👍🏼      5   \n",
       "529037                                               Asik      2   \n",
       "410457                        Saya kasi bintang satu dulu      1   \n",
       "263360                                               bgus      5   \n",
       "368571                                              Bagus      3   \n",
       "202819  Too bad for my account. It maybe safe. But it'...      1   \n",
       "396737                                             Mantap      5   \n",
       "\n",
       "                                                 contents  \n",
       "548000                                                edo  \n",
       "210548                                                  👍  \n",
       "568769                                  berkeprimanusiaan  \n",
       "22058   gokil aja nih aplikasi luas jangkauan perteman...  \n",
       "27485                                   facebook mantap👍🏼  \n",
       "529037                                               asik  \n",
       "410457                                       kasi bintang  \n",
       "263360                                               bgus  \n",
       "368571                                              bagus  \n",
       "202819  too bad for my account it maybe safe but it to...  \n",
       "396737                                             mantap  "
      ]
     },
     "execution_count": 45,
     "metadata": {},
     "output_type": "execute_result"
    }
   ],
   "source": [
    "facebook.sample(11)"
   ]
  },
  {
   "cell_type": "code",
   "execution_count": 46,
   "metadata": {},
   "outputs": [],
   "source": [
    "import matplotlib.pyplot as plt\n",
    "import seaborn as sns"
   ]
  },
  {
   "cell_type": "code",
   "execution_count": 47,
   "metadata": {},
   "outputs": [
    {
     "name": "stderr",
     "output_type": "stream",
     "text": [
      "C:\\Users\\Akmal Fauzan\\AppData\\Local\\Temp\\ipykernel_21220\\3152927536.py:3: FutureWarning: \n",
      "\n",
      "Passing `palette` without assigning `hue` is deprecated and will be removed in v0.14.0. Assign the `x` variable to `hue` and set `legend=False` for the same effect.\n",
      "\n",
      "  ax = sns.countplot(x='score', data=facebook, palette='mako')\n"
     ]
    },
    {
     "data": {
      "image/png": "[encoded data removed]",
      "text/plain": [
       "<Figure size 1000x600 with 1 Axes>"
      ]
     },
     "metadata": {},
     "output_type": "display_data"
    }
   ],
   "source": [
    "# Visualisasi distribusi rating\n",
    "plt.figure(figsize=(10, 6))\n",
    "ax = sns.countplot(x='score', data=facebook, palette='mako')\n",
    "\n",
    "# Menambahkan angka di atas setiap bar\n",
    "for p in ax.patches:\n",
    "    ax.annotate(f'{int(p.get_height())}', \n",
    "                (p.get_x() + p.get_width() / 2., p.get_height()), \n",
    "                ha='center', va='center', \n",
    "                xytext=(0, 10), \n",
    "                textcoords='offset points')\n",
    "\n",
    "plt.title('Distribusi Rating (Score) dari 1 sampai 5')\n",
    "plt.xlabel('Rating (Score)')\n",
    "plt.ylabel('Jumlah Ulasan')\n",
    "plt.show()"
   ]
  },
  {
   "cell_type": "code",
   "execution_count": 48,
   "metadata": {},
   "outputs": [
    {
     "name": "stdout",
     "output_type": "stream",
     "text": [
      "    10   30  a2f  abis  account   ad  adil  admin   ah   aj  ...  yah  yahudi  \\\n",
      "0  0.0  0.0  0.0   0.0      0.0  0.0   0.0    0.0  0.0  0.0  ...  0.0     0.0   \n",
      "1  0.0  0.0  0.0   0.0      0.0  0.0   0.0    0.0  0.0  0.0  ...  0.0     0.0   \n",
      "2  0.0  0.0  0.0   0.0      0.0  0.0   0.0    0.0  0.0  0.0  ...  0.0     0.0   \n",
      "3  0.0  0.0  0.0   0.0      0.0  0.0   0.0    0.0  0.0  0.0  ...  0.0     0.0   \n",
      "4  0.0  0.0  0.0   0.0      0.0  0.0   0.0    0.0  0.0  0.0  ...  0.0     0.0   \n",
      "\n",
      "   yes   yg  yng  you  your  youtube  zionis  zuckerberg  \n",
      "0  0.0  0.0  0.0  0.0   0.0      0.0     0.0         0.0  \n",
      "1  0.0  0.0  0.0  0.0   0.0      0.0     0.0         0.0  \n",
      "2  0.0  0.0  0.0  0.0   0.0      0.0     0.0         0.0  \n",
      "3  0.0  0.0  0.0  0.0   0.0      0.0     0.0         0.0  \n",
      "4  0.0  0.0  0.0  0.0   0.0      0.0     0.0         0.0  \n",
      "\n",
      "[5 rows x 1000 columns]\n"
     ]
    }
   ],
   "source": [
    "# Vectorization using TF-IDF\n",
    "vectorizer = TfidfVectorizer(max_features=1000)\n",
    "X = vectorizer.fit_transform(facebook['contents'])\n",
    "\n",
    "# Convert to DataFrame\n",
    "tfidf_df = pd.DataFrame(X.toarray(), columns=vectorizer.get_feature_names_out())\n",
    "\n",
    "# Display the TF-IDF DataFrame\n",
    "print(tfidf_df.head())"
   ]
  },
  {
   "cell_type": "code",
   "execution_count": null,
   "metadata": {},
   "outputs": [],
   "source": []
  }
 ],
 "metadata": {
  "kernelspec": {
   "display_name": "Python 3",
   "language": "python",
   "name": "python3"
  },
  "language_info": {
   "codemirror_mode": {
    "name": "ipython",
    "version": 3
   },
   "file_extension": ".py",
   "mimetype": "text/x-python",
   "name": "python",
   "nbconvert_exporter": "python",
   "pygments_lexer": "ipython3",
   "version": "3.11.4"
  }
 },
 "nbformat": 4,
 "nbformat_minor": 2
}
