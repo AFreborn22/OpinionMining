{
 "cells": [
  {
   "cell_type": "code",
   "execution_count": 29,
   "metadata": {},
   "outputs": [],
   "source": [
    "from google_play_scraper import app, reviews_all\n",
    "import pandas as pd"
   ]
  },
  {
   "cell_type": "code",
   "execution_count": 30,
   "metadata": {},
   "outputs": [],
   "source": [
    "app_id = 'com.facebook.katana'"
   ]
  },
  {
   "cell_type": "code",
   "execution_count": 31,
   "metadata": {},
   "outputs": [
    {
     "name": "stdout",
     "output_type": "stream",
     "text": [
      "App Info: {'title': 'Facebook', 'description': \"Where real people propel your curiosity. Whether you’re thrifting gear, showing a reel to that group who gets it, or sharing laughs over fun images reimagined by AI, Facebook helps you make things happen like no other social network.\\r\\n\\r\\nExplore and expand your interests: \\r\\n* Ask Meta AI to search topics that matter to you, and get instant results more interactive than just text\\r\\n* Shop Marketplace for deals and hidden gems to nurture your hobbies\\r\\n* Personalize your Feed to see more of what you like, less of what you don’t\\r\\n* Dive into reels and videos for how-to’s or quick entertainment\\r\\n\\r\\nConnect with people and communities:\\r\\n* Join groups to learn tips from real people who’ve been there, done that\\r\\n* Turn on sharing to Instagram to save time\\r\\n* Privately message relatable posts that only your BFF will get or that Reels trend everyone’s talking about\\r\\n\\r\\nShare your world:\\r\\n* Use generative AI to delight friends with custom images, or just get help writing posts\\r\\n* Customize your profile to choose how you show up and who sees your posts\\r\\n* Effortlessly create reels from trending templates, or showcase your creativity with a full suite of editing tools\\r\\n* Capture moments on the fly with stories\\r\\n\\r\\nSome features may not be available in your country or region. \\r\\n\\r\\nTerms & Policies: https://www.facebook.com/policies_center\\r\\n\\r\\nLearn how we're working to help keep our communities safe across Meta technologies at the Meta Safety Center: https://about.meta.com/actions/safety\", 'descriptionHTML': 'Where real people propel your curiosity. Whether you’re thrifting gear, showing a reel to that group who gets it, or sharing laughs over fun images reimagined by AI, Facebook helps you make things happen like no other social network.<br><br>Explore and expand your interests: <br>* Ask Meta AI to search topics that matter to you, and get instant results more interactive than just text<br>* Shop Marketplace for deals and hidden gems to nurture your hobbies<br>* Personalize your Feed to see more of what you like, less of what you don’t<br>* Dive into reels and videos for how-to’s or quick entertainment<br><br>Connect with people and communities:<br>* Join groups to learn tips from real people who’ve been there, done that<br>* Turn on sharing to Instagram to save time<br>* Privately message relatable posts that only your BFF will get or that Reels trend everyone’s talking about<br><br>Share your world:<br>* Use generative AI to delight friends with custom images, or just get help writing posts<br>* Customize your profile to choose how you show up and who sees your posts<br>* Effortlessly create reels from trending templates, or showcase your creativity with a full suite of editing tools<br>* Capture moments on the fly with stories<br><br>Some features may not be available in your country or region. <br><br>Terms &amp; Policies: https://www.facebook.com/policies_center<br><br>Learn how we&#39;re working to help keep our communities safe across Meta technologies at the Meta Safety Center: https://about.meta.com/actions/safety', 'summary': 'Explore the things you love', 'installs': '5,000,000,000+', 'minInstalls': 5000000000, 'realInstalls': 9791360185, 'score': 4.276, 'ratings': 149777425, 'reviews': 4244500, 'histogram': [18343956, 2996000, 6414738, 13245506, 108777204], 'price': 0, 'free': True, 'currency': 'USD', 'sale': False, 'saleTime': None, 'originalPrice': None, 'saleText': None, 'offersIAP': True, 'inAppProductPrice': '$0.05 - $5,000.00 per item', 'developer': 'Meta Platforms, Inc.', 'developerId': 'Meta+Platforms,+Inc.', 'developerEmail': 'facebook.android@fb.com', 'developerWebsite': 'https://www.facebook.com/facebook', 'developerAddress': '1 Hacker Way\\nMenlo Park, CA 94025', 'privacyPolicy': 'https://www.facebook.com/about/privacy/', 'genre': 'Social', 'genreId': 'SOCIAL', 'categories': [{'name': 'Social', 'id': 'SOCIAL'}], 'icon': 'https://play-lh.googleusercontent.com/KCMTYuiTrKom4Vyf0G4foetVOwhKWzNbHWumV73IXexAIy5TTgZipL52WTt8ICL-oIo', 'headerImage': 'https://play-lh.googleusercontent.com/GQXolHad8JJu_qR90bF9krWLP66RimpNgskSMXEcmoZ1znWfgsB8uCtM1uGC0n_lMA', 'screenshots': ['https://play-lh.googleusercontent.com/yltemK6xddx3AdaqfoI2RYFB1rHDpDxkZZl8I_3uWqOR_sGAj20sCE0a1hS_zL59mWs', 'https://play-lh.googleusercontent.com/uPC3VsBbDU5IakuOsLLFvFppuKyV6IDEIrX8EZRlR4EiRisRuSNrYCxhc30HiduWdkVi', 'https://play-lh.googleusercontent.com/LqFs9L14viQoszsQtSqqDVk3m4bKXlDSYUIYii0e7U_y0oXxASPtoxj2Pt4gV8KHDDU', 'https://play-lh.googleusercontent.com/DH_oPwYKAm6_3xjvfG8yio4xQayew62B658_4w3nIyxGqRiQncG8jX3fa3qmRZ_EQxU', 'https://play-lh.googleusercontent.com/3aTPofuVkgP4XlICCyVPZgp8ZGDXPeezeZgNh4YtCY6VUNqCg06AXYGPWRvAq-jF0fk', 'https://play-lh.googleusercontent.com/ioi2RTrBkBtTvlXtksF9oOmmEDaOswgm02oIg6KRh5QsmdXBTUxCe7zeOCglCeib_Lxy', 'https://play-lh.googleusercontent.com/b2kukObx5S3NrTPDmSEz3_GtiZUkhhXErUQgE4gBxbvYKVyJH3M19ADpkCO4UHztVg', 'https://play-lh.googleusercontent.com/WGvXMI3Vshmv6IMws7YEkzXUrV1vOh-P7Jv8cuSR8Xwm52fxjd-V4OhTKTWTqEZaIik'], 'video': 'https://www.youtube.com/embed/nt7j4taPB5E?ps=play&vq=large&rel=0&autohide=1&showinfo=0', 'videoImage': 'https://play-lh.googleusercontent.com/GQXolHad8JJu_qR90bF9krWLP66RimpNgskSMXEcmoZ1znWfgsB8uCtM1uGC0n_lMA', 'contentRating': 'Teen', 'contentRatingDescription': None, 'adSupported': True, 'containsAds': True, 'released': None, 'lastUpdatedOn': 'Aug 6, 2024', 'updated': 1722997401, 'version': 'Varies with device', 'comments': [], 'appId': 'com.facebook.katana', 'url': 'https://play.google.com/store/apps/details?id=com.facebook.katana&hl=en&gl=us'}\n"
     ]
    }
   ],
   "source": [
    "# Mendapatkan informasi aplikasi\n",
    "app_info = app(app_id)\n",
    "print(\"App Info:\", app_info)"
   ]
  },
  {
   "cell_type": "code",
   "execution_count": 32,
   "metadata": {},
   "outputs": [],
   "source": [
    "# Mendapatkan semua review\n",
    "reviews = reviews_all(\n",
    "    app_id,\n",
    "    sleep_milliseconds=0,  # Menunggu beberapa waktu di antara permintaan untuk menghindari diblokir\n",
    "    lang='id',  # Bahasa Indonesia\n",
    "    country='id'  # Negara Indonesia\n",
    ")"
   ]
  },
  {
   "cell_type": "code",
   "execution_count": 33,
   "metadata": {},
   "outputs": [],
   "source": [
    "# Konversi review ke dalam DataFrame\n",
    "reviews_df = pd.DataFrame(reviews)\n",
    "reviews_df.to_csv('playstore_reviews.csv', index=False)"
   ]
  },
  {
   "cell_type": "code",
   "execution_count": 34,
   "metadata": {},
   "outputs": [],
   "source": [
    "facebookReviews  = pd.read_csv('playstore_reviews.csv')"
   ]
  },
  {
   "cell_type": "code",
   "execution_count": 35,
   "metadata": {},
   "outputs": [
    {
     "data": {
      "text/html": [
       "<div>\n",
       "<style scoped>\n",
       "    .dataframe tbody tr th:only-of-type {\n",
       "        vertical-align: middle;\n",
       "    }\n",
       "\n",
       "    .dataframe tbody tr th {\n",
       "        vertical-align: top;\n",
       "    }\n",
       "\n",
       "    .dataframe thead th {\n",
       "        text-align: right;\n",
       "    }\n",
       "</style>\n",
       "<table border=\"1\" class=\"dataframe\">\n",
       "  <thead>\n",
       "    <tr style=\"text-align: right;\">\n",
       "      <th></th>\n",
       "      <th>reviewId</th>\n",
       "      <th>userName</th>\n",
       "      <th>userImage</th>\n",
       "      <th>content</th>\n",
       "      <th>score</th>\n",
       "      <th>thumbsUpCount</th>\n",
       "      <th>reviewCreatedVersion</th>\n",
       "      <th>at</th>\n",
       "      <th>replyContent</th>\n",
       "      <th>repliedAt</th>\n",
       "      <th>appVersion</th>\n",
       "    </tr>\n",
       "  </thead>\n",
       "  <tbody>\n",
       "    <tr>\n",
       "      <th>0</th>\n",
       "      <td>62d03ac8-3292-4673-9e92-23052e820df3</td>\n",
       "      <td>Pengguna Google</td>\n",
       "      <td>https://play-lh.googleusercontent.com/EGemoI2N...</td>\n",
       "      <td>Facebook tuh klo mode gratis gk bisa lama digu...</td>\n",
       "      <td>1</td>\n",
       "      <td>0</td>\n",
       "      <td>436.0.0.35.101</td>\n",
       "      <td>2024-08-06 21:31:11</td>\n",
       "      <td>NaN</td>\n",
       "      <td>NaN</td>\n",
       "      <td>436.0.0.35.101</td>\n",
       "    </tr>\n",
       "    <tr>\n",
       "      <th>1</th>\n",
       "      <td>8c4b1396-aeb6-4251-b3b8-524d6decfc29</td>\n",
       "      <td>Pengguna Google</td>\n",
       "      <td>https://play-lh.googleusercontent.com/EGemoI2N...</td>\n",
       "      <td>Keren</td>\n",
       "      <td>5</td>\n",
       "      <td>0</td>\n",
       "      <td>NaN</td>\n",
       "      <td>2024-08-06 21:29:59</td>\n",
       "      <td>NaN</td>\n",
       "      <td>NaN</td>\n",
       "      <td>NaN</td>\n",
       "    </tr>\n",
       "    <tr>\n",
       "      <th>2</th>\n",
       "      <td>433768f1-4325-4077-82b0-e7f111286250</td>\n",
       "      <td>Pengguna Google</td>\n",
       "      <td>https://play-lh.googleusercontent.com/EGemoI2N...</td>\n",
       "      <td>oke</td>\n",
       "      <td>5</td>\n",
       "      <td>0</td>\n",
       "      <td>475.1.0.46.82</td>\n",
       "      <td>2024-08-06 21:29:21</td>\n",
       "      <td>NaN</td>\n",
       "      <td>NaN</td>\n",
       "      <td>475.1.0.46.82</td>\n",
       "    </tr>\n",
       "    <tr>\n",
       "      <th>3</th>\n",
       "      <td>103280b4-cf1f-448f-9d1d-c3c00511397f</td>\n",
       "      <td>Pengguna Google</td>\n",
       "      <td>https://play-lh.googleusercontent.com/EGemoI2N...</td>\n",
       "      <td>Mantap</td>\n",
       "      <td>4</td>\n",
       "      <td>0</td>\n",
       "      <td>NaN</td>\n",
       "      <td>2024-08-06 21:27:31</td>\n",
       "      <td>NaN</td>\n",
       "      <td>NaN</td>\n",
       "      <td>NaN</td>\n",
       "    </tr>\n",
       "    <tr>\n",
       "      <th>4</th>\n",
       "      <td>2c8c9cb4-d674-4a56-b322-02f4b411f344</td>\n",
       "      <td>Pengguna Google</td>\n",
       "      <td>https://play-lh.googleusercontent.com/EGemoI2N...</td>\n",
       "      <td>👍👍👍👍</td>\n",
       "      <td>5</td>\n",
       "      <td>0</td>\n",
       "      <td>NaN</td>\n",
       "      <td>2024-08-06 21:27:17</td>\n",
       "      <td>NaN</td>\n",
       "      <td>NaN</td>\n",
       "      <td>NaN</td>\n",
       "    </tr>\n",
       "  </tbody>\n",
       "</table>\n",
       "</div>"
      ],
      "text/plain": [
       "                               reviewId         userName  \\\n",
       "0  62d03ac8-3292-4673-9e92-23052e820df3  Pengguna Google   \n",
       "1  8c4b1396-aeb6-4251-b3b8-524d6decfc29  Pengguna Google   \n",
       "2  433768f1-4325-4077-82b0-e7f111286250  Pengguna Google   \n",
       "3  103280b4-cf1f-448f-9d1d-c3c00511397f  Pengguna Google   \n",
       "4  2c8c9cb4-d674-4a56-b322-02f4b411f344  Pengguna Google   \n",
       "\n",
       "                                           userImage  \\\n",
       "0  https://play-lh.googleusercontent.com/EGemoI2N...   \n",
       "1  https://play-lh.googleusercontent.com/EGemoI2N...   \n",
       "2  https://play-lh.googleusercontent.com/EGemoI2N...   \n",
       "3  https://play-lh.googleusercontent.com/EGemoI2N...   \n",
       "4  https://play-lh.googleusercontent.com/EGemoI2N...   \n",
       "\n",
       "                                             content  score  thumbsUpCount  \\\n",
       "0  Facebook tuh klo mode gratis gk bisa lama digu...      1              0   \n",
       "1                                              Keren      5              0   \n",
       "2                                                oke      5              0   \n",
       "3                                             Mantap      4              0   \n",
       "4                                               👍👍👍👍      5              0   \n",
       "\n",
       "  reviewCreatedVersion                   at  replyContent  repliedAt  \\\n",
       "0       436.0.0.35.101  2024-08-06 21:31:11           NaN        NaN   \n",
       "1                  NaN  2024-08-06 21:29:59           NaN        NaN   \n",
       "2        475.1.0.46.82  2024-08-06 21:29:21           NaN        NaN   \n",
       "3                  NaN  2024-08-06 21:27:31           NaN        NaN   \n",
       "4                  NaN  2024-08-06 21:27:17           NaN        NaN   \n",
       "\n",
       "       appVersion  \n",
       "0  436.0.0.35.101  \n",
       "1             NaN  \n",
       "2   475.1.0.46.82  \n",
       "3             NaN  \n",
       "4             NaN  "
      ]
     },
     "execution_count": 35,
     "metadata": {},
     "output_type": "execute_result"
    }
   ],
   "source": [
    "facebookReviews.head()"
   ]
  },
  {
   "cell_type": "code",
   "execution_count": 36,
   "metadata": {},
   "outputs": [],
   "source": [
    "facebook = facebookReviews[['content', 'score']]"
   ]
  },
  {
   "cell_type": "code",
   "execution_count": 37,
   "metadata": {},
   "outputs": [
    {
     "data": {
      "text/html": [
       "<div>\n",
       "<style scoped>\n",
       "    .dataframe tbody tr th:only-of-type {\n",
       "        vertical-align: middle;\n",
       "    }\n",
       "\n",
       "    .dataframe tbody tr th {\n",
       "        vertical-align: top;\n",
       "    }\n",
       "\n",
       "    .dataframe thead th {\n",
       "        text-align: right;\n",
       "    }\n",
       "</style>\n",
       "<table border=\"1\" class=\"dataframe\">\n",
       "  <thead>\n",
       "    <tr style=\"text-align: right;\">\n",
       "      <th></th>\n",
       "      <th>content</th>\n",
       "      <th>score</th>\n",
       "    </tr>\n",
       "  </thead>\n",
       "  <tbody>\n",
       "    <tr>\n",
       "      <th>0</th>\n",
       "      <td>Facebook tuh klo mode gratis gk bisa lama digu...</td>\n",
       "      <td>1</td>\n",
       "    </tr>\n",
       "    <tr>\n",
       "      <th>1</th>\n",
       "      <td>Keren</td>\n",
       "      <td>5</td>\n",
       "    </tr>\n",
       "    <tr>\n",
       "      <th>2</th>\n",
       "      <td>oke</td>\n",
       "      <td>5</td>\n",
       "    </tr>\n",
       "    <tr>\n",
       "      <th>3</th>\n",
       "      <td>Mantap</td>\n",
       "      <td>4</td>\n",
       "    </tr>\n",
       "    <tr>\n",
       "      <th>4</th>\n",
       "      <td>👍👍👍👍</td>\n",
       "      <td>5</td>\n",
       "    </tr>\n",
       "  </tbody>\n",
       "</table>\n",
       "</div>"
      ],
      "text/plain": [
       "                                             content  score\n",
       "0  Facebook tuh klo mode gratis gk bisa lama digu...      1\n",
       "1                                              Keren      5\n",
       "2                                                oke      5\n",
       "3                                             Mantap      4\n",
       "4                                               👍👍👍👍      5"
      ]
     },
     "execution_count": 37,
     "metadata": {},
     "output_type": "execute_result"
    }
   ],
   "source": [
    "facebook.head()"
   ]
  },
  {
   "cell_type": "code",
   "execution_count": 38,
   "metadata": {},
   "outputs": [
    {
     "data": {
      "text/plain": [
       "(598500, 2)"
      ]
     },
     "execution_count": 38,
     "metadata": {},
     "output_type": "execute_result"
    }
   ],
   "source": [
    "facebook.shape"
   ]
  },
  {
   "cell_type": "code",
   "execution_count": 39,
   "metadata": {},
   "outputs": [
    {
     "name": "stdout",
     "output_type": "stream",
     "text": [
      "<class 'pandas.core.frame.DataFrame'>\n",
      "RangeIndex: 598500 entries, 0 to 598499\n",
      "Data columns (total 2 columns):\n",
      " #   Column   Non-Null Count   Dtype \n",
      "---  ------   --------------   ----- \n",
      " 0   content  598494 non-null  object\n",
      " 1   score    598500 non-null  int64 \n",
      "dtypes: int64(1), object(1)\n",
      "memory usage: 9.1+ MB\n"
     ]
    }
   ],
   "source": [
    "facebook.info()"
   ]
  },
  {
   "cell_type": "code",
   "execution_count": 40,
   "metadata": {},
   "outputs": [
    {
     "data": {
      "text/plain": [
       "content    6\n",
       "score      0\n",
       "dtype: int64"
      ]
     },
     "execution_count": 40,
     "metadata": {},
     "output_type": "execute_result"
    }
   ],
   "source": [
    "facebook.isnull().sum()"
   ]
  },
  {
   "cell_type": "code",
   "execution_count": 41,
   "metadata": {},
   "outputs": [],
   "source": [
    "facebook = facebook.dropna()"
   ]
  },
  {
   "cell_type": "code",
   "execution_count": 42,
   "metadata": {},
   "outputs": [
    {
     "name": "stderr",
     "output_type": "stream",
     "text": [
      "[nltk_data] Downloading package stopwords to C:\\Users\\Akmal\n",
      "[nltk_data]     Fauzan\\AppData\\Roaming\\nltk_data...\n",
      "[nltk_data]   Package stopwords is already up-to-date!\n",
      "[nltk_data] Downloading package punkt to C:\\Users\\Akmal\n",
      "[nltk_data]     Fauzan\\AppData\\Roaming\\nltk_data...\n",
      "[nltk_data]   Package punkt is already up-to-date!\n",
      "[nltk_data] Downloading package wordnet to C:\\Users\\Akmal\n",
      "[nltk_data]     Fauzan\\AppData\\Roaming\\nltk_data...\n",
      "[nltk_data]   Package wordnet is already up-to-date!\n"
     ]
    },
    {
     "data": {
      "text/plain": [
       "True"
      ]
     },
     "execution_count": 42,
     "metadata": {},
     "output_type": "execute_result"
    }
   ],
   "source": [
    "import nltk\n",
    "\n",
    "nltk.download('stopwords')\n",
    "nltk.download('punkt')\n",
    "nltk.download('wordnet')"
   ]
  },
  {
   "cell_type": "code",
   "execution_count": 43,
   "metadata": {},
   "outputs": [],
   "source": [
    "import string\n",
    "from nltk.corpus import stopwords\n",
    "from nltk.tokenize import word_tokenize\n",
    "from nltk.stem import WordNetLemmatizer\n",
    "from sklearn.feature_extraction.text import TfidfVectorizer\n",
    "\n",
    "def preprocess_text(text):\n",
    "    # Remove punctuation\n",
    "    text = text.translate(str.maketrans('', '', string.punctuation))\n",
    "    \n",
    "    # Lowercase the text\n",
    "    text = text.lower()\n",
    "    \n",
    "    # Tokenization\n",
    "    words = word_tokenize(text)\n",
    "    \n",
    "    # Remove stop words\n",
    "    stop_words = set(stopwords.words('indonesian')) \n",
    "    words = [word for word in words if word not in stop_words]\n",
    "    \n",
    "    # Lemmatization\n",
    "    lemmatizer = WordNetLemmatizer()\n",
    "    words = [lemmatizer.lemmatize(word) for word in words]\n",
    "    \n",
    "    return ' '.join(words)"
   ]
  },
  {
   "cell_type": "code",
   "execution_count": 44,
   "metadata": {},
   "outputs": [],
   "source": [
    "#melakukan perubahan dan menambahkan kolom baru pada kolom yang berhasil di bersihkan\n",
    "facebook['contents'] = facebook['content'].apply(preprocess_text)"
   ]
  },
  {
   "cell_type": "code",
   "execution_count": 53,
   "metadata": {},
   "outputs": [
    {
     "data": {
      "text/html": [
       "<div>\n",
       "<style scoped>\n",
       "    .dataframe tbody tr th:only-of-type {\n",
       "        vertical-align: middle;\n",
       "    }\n",
       "\n",
       "    .dataframe tbody tr th {\n",
       "        vertical-align: top;\n",
       "    }\n",
       "\n",
       "    .dataframe thead th {\n",
       "        text-align: right;\n",
       "    }\n",
       "</style>\n",
       "<table border=\"1\" class=\"dataframe\">\n",
       "  <thead>\n",
       "    <tr style=\"text-align: right;\">\n",
       "      <th></th>\n",
       "      <th>content</th>\n",
       "      <th>score</th>\n",
       "      <th>contents</th>\n",
       "    </tr>\n",
       "  </thead>\n",
       "  <tbody>\n",
       "    <tr>\n",
       "      <th>527335</th>\n",
       "      <td>Bagus</td>\n",
       "      <td>5</td>\n",
       "      <td>bagus</td>\n",
       "    </tr>\n",
       "    <tr>\n",
       "      <th>401960</th>\n",
       "      <td>Gini,kan kemarin saya habis hapus akun karena ...</td>\n",
       "      <td>1</td>\n",
       "      <td>ginikan kemarin habis hapus akun udah kebanyak...</td>\n",
       "    </tr>\n",
       "    <tr>\n",
       "      <th>86564</th>\n",
       "      <td>Nous l'utilisons également pour publier nos ex...</td>\n",
       "      <td>5</td>\n",
       "      <td>nous lutilisons également pour publier no expé...</td>\n",
       "    </tr>\n",
       "    <tr>\n",
       "      <th>33977</th>\n",
       "      <td>mantap</td>\n",
       "      <td>5</td>\n",
       "      <td>mantap</td>\n",
       "    </tr>\n",
       "    <tr>\n",
       "      <th>528018</th>\n",
       "      <td>5 bintang</td>\n",
       "      <td>5</td>\n",
       "      <td>5 bintang</td>\n",
       "    </tr>\n",
       "    <tr>\n",
       "      <th>324398</th>\n",
       "      <td>Apk nya jelek bngt</td>\n",
       "      <td>1</td>\n",
       "      <td>apk nya jelek bngt</td>\n",
       "    </tr>\n",
       "    <tr>\n",
       "      <th>164133</th>\n",
       "      <td>bagus</td>\n",
       "      <td>5</td>\n",
       "      <td>bagus</td>\n",
       "    </tr>\n",
       "    <tr>\n",
       "      <th>334222</th>\n",
       "      <td>Bagusssss bangeetttttt</td>\n",
       "      <td>5</td>\n",
       "      <td>bagusssss bangeetttttt</td>\n",
       "    </tr>\n",
       "    <tr>\n",
       "      <th>543540</th>\n",
       "      <td>Bagus</td>\n",
       "      <td>5</td>\n",
       "      <td>bagus</td>\n",
       "    </tr>\n",
       "    <tr>\n",
       "      <th>384626</th>\n",
       "      <td>Dengan Fb saya dapat bertemu saudara2 &amp; teman2...</td>\n",
       "      <td>5</td>\n",
       "      <td>fb bertemu saudara2 teman2 tidaj bertemu bersa...</td>\n",
       "    </tr>\n",
       "    <tr>\n",
       "      <th>256385</th>\n",
       "      <td>Akun tidak bisa kebuka</td>\n",
       "      <td>5</td>\n",
       "      <td>akun kebuka</td>\n",
       "    </tr>\n",
       "  </tbody>\n",
       "</table>\n",
       "</div>"
      ],
      "text/plain": [
       "                                                  content  score  \\\n",
       "527335                                              Bagus      5   \n",
       "401960  Gini,kan kemarin saya habis hapus akun karena ...      1   \n",
       "86564   Nous l'utilisons également pour publier nos ex...      5   \n",
       "33977                                              mantap      5   \n",
       "528018                                          5 bintang      5   \n",
       "324398                                 Apk nya jelek bngt      1   \n",
       "164133                                              bagus      5   \n",
       "334222                             Bagusssss bangeetttttt      5   \n",
       "543540                                              Bagus      5   \n",
       "384626  Dengan Fb saya dapat bertemu saudara2 & teman2...      5   \n",
       "256385                             Akun tidak bisa kebuka      5   \n",
       "\n",
       "                                                 contents  \n",
       "527335                                              bagus  \n",
       "401960  ginikan kemarin habis hapus akun udah kebanyak...  \n",
       "86564   nous lutilisons également pour publier no expé...  \n",
       "33977                                              mantap  \n",
       "528018                                          5 bintang  \n",
       "324398                                 apk nya jelek bngt  \n",
       "164133                                              bagus  \n",
       "334222                             bagusssss bangeetttttt  \n",
       "543540                                              bagus  \n",
       "384626  fb bertemu saudara2 teman2 tidaj bertemu bersa...  \n",
       "256385                                        akun kebuka  "
      ]
     },
     "execution_count": 53,
     "metadata": {},
     "output_type": "execute_result"
    }
   ],
   "source": [
    "facebook.sample(11)"
   ]
  },
  {
   "cell_type": "code",
   "execution_count": 46,
   "metadata": {},
   "outputs": [],
   "source": [
    "import matplotlib.pyplot as plt\n",
    "import seaborn as sns"
   ]
  },
  {
   "cell_type": "code",
   "execution_count": 47,
   "metadata": {},
   "outputs": [
    {
     "name": "stderr",
     "output_type": "stream",
     "text": [
      "C:\\Users\\Akmal Fauzan\\AppData\\Local\\Temp\\ipykernel_21220\\3152927536.py:3: FutureWarning: \n",
      "\n",
      "Passing `palette` without assigning `hue` is deprecated and will be removed in v0.14.0. Assign the `x` variable to `hue` and set `legend=False` for the same effect.\n",
      "\n",
      "  ax = sns.countplot(x='score', data=facebook, palette='mako')\n"
     ]
    },
    {
     "data": {
      "image/png": "[encoded data removed]",
      "text/plain": [
       "<Figure size 1000x600 with 1 Axes>"
      ]
     },
     "metadata": {},
     "output_type": "display_data"
    }
   ],
   "source": [
    "# Visualisasi distribusi rating\n",
    "plt.figure(figsize=(10, 6))\n",
    "ax = sns.countplot(x='score', data=facebook, palette='mako')\n",
    "\n",
    "# Menambahkan angka di atas setiap bar\n",
    "for p in ax.patches:\n",
    "    ax.annotate(f'{int(p.get_height())}', \n",
    "                (p.get_x() + p.get_width() / 2., p.get_height()), \n",
    "                ha='center', va='center', \n",
    "                xytext=(0, 10), \n",
    "                textcoords='offset points')\n",
    "\n",
    "plt.title('Distribusi Rating (Score) dari 1 sampai 5')\n",
    "plt.xlabel('Rating (Score)')\n",
    "plt.ylabel('Jumlah Ulasan')\n",
    "plt.show()"
   ]
  },
  {
   "cell_type": "code",
   "execution_count": 48,
   "metadata": {},
   "outputs": [
    {
     "name": "stdout",
     "output_type": "stream",
     "text": [
      "    10   30  a2f  abis  account   ad  adil  admin   ah   aj  ...  yah  yahudi  \\\n",
      "0  0.0  0.0  0.0   0.0      0.0  0.0   0.0    0.0  0.0  0.0  ...  0.0     0.0   \n",
      "1  0.0  0.0  0.0   0.0      0.0  0.0   0.0    0.0  0.0  0.0  ...  0.0     0.0   \n",
      "2  0.0  0.0  0.0   0.0      0.0  0.0   0.0    0.0  0.0  0.0  ...  0.0     0.0   \n",
      "3  0.0  0.0  0.0   0.0      0.0  0.0   0.0    0.0  0.0  0.0  ...  0.0     0.0   \n",
      "4  0.0  0.0  0.0   0.0      0.0  0.0   0.0    0.0  0.0  0.0  ...  0.0     0.0   \n",
      "\n",
      "   yes   yg  yng  you  your  youtube  zionis  zuckerberg  \n",
      "0  0.0  0.0  0.0  0.0   0.0      0.0     0.0         0.0  \n",
      "1  0.0  0.0  0.0  0.0   0.0      0.0     0.0         0.0  \n",
      "2  0.0  0.0  0.0  0.0   0.0      0.0     0.0         0.0  \n",
      "3  0.0  0.0  0.0  0.0   0.0      0.0     0.0         0.0  \n",
      "4  0.0  0.0  0.0  0.0   0.0      0.0     0.0         0.0  \n",
      "\n",
      "[5 rows x 1000 columns]\n"
     ]
    }
   ],
   "source": [
    "# Vectorization using TF-IDF\n",
    "vectorizer = TfidfVectorizer(max_features=1000)\n",
    "X = vectorizer.fit_transform(facebook['contents'])\n",
    "\n",
    "# Convert to DataFrame\n",
    "tfidf_df = pd.DataFrame(X.toarray(), columns=vectorizer.get_feature_names_out())\n",
    "\n",
    "# Display the TF-IDF DataFrame\n",
    "print(tfidf_df.head())"
   ]
  },
  {
   "cell_type": "code",
   "execution_count": 54,
   "metadata": {},
   "outputs": [],
   "source": [
    "rating3 = facebook[facebook['score'] == 3]"
   ]
  },
  {
   "cell_type": "code",
   "execution_count": 55,
   "metadata": {},
   "outputs": [
    {
     "data": {
      "text/html": [
       "<div>\n",
       "<style scoped>\n",
       "    .dataframe tbody tr th:only-of-type {\n",
       "        vertical-align: middle;\n",
       "    }\n",
       "\n",
       "    .dataframe tbody tr th {\n",
       "        vertical-align: top;\n",
       "    }\n",
       "\n",
       "    .dataframe thead th {\n",
       "        text-align: right;\n",
       "    }\n",
       "</style>\n",
       "<table border=\"1\" class=\"dataframe\">\n",
       "  <thead>\n",
       "    <tr style=\"text-align: right;\">\n",
       "      <th></th>\n",
       "      <th>content</th>\n",
       "      <th>score</th>\n",
       "      <th>contents</th>\n",
       "    </tr>\n",
       "  </thead>\n",
       "  <tbody>\n",
       "    <tr>\n",
       "      <th>24</th>\n",
       "      <td>mantap</td>\n",
       "      <td>3</td>\n",
       "      <td>mantap</td>\n",
       "    </tr>\n",
       "    <tr>\n",
       "      <th>35</th>\n",
       "      <td>Mohon di bantu facebook nya biyar lancar</td>\n",
       "      <td>3</td>\n",
       "      <td>mohon bantu facebook nya biyar lancar</td>\n",
       "    </tr>\n",
       "    <tr>\n",
       "      <th>53</th>\n",
       "      <td>seru banget</td>\n",
       "      <td>3</td>\n",
       "      <td>seru banget</td>\n",
       "    </tr>\n",
       "    <tr>\n",
       "      <th>64</th>\n",
       "      <td>mantap</td>\n",
       "      <td>3</td>\n",
       "      <td>mantap</td>\n",
       "    </tr>\n",
       "    <tr>\n",
       "      <th>80</th>\n",
       "      <td>Kenapa ini fb, apk nya eror terus</td>\n",
       "      <td>3</td>\n",
       "      <td>fb apk nya eror</td>\n",
       "    </tr>\n",
       "    <tr>\n",
       "      <th>85</th>\n",
       "      <td>Kenapa FB saya gada tombol pemberitahuannya ka...</td>\n",
       "      <td>3</td>\n",
       "      <td>fb gada tombol pemberitahuannya kalo yg coment...</td>\n",
       "    </tr>\n",
       "    <tr>\n",
       "      <th>92</th>\n",
       "      <td>setatus tidk muncul di beranda</td>\n",
       "      <td>3</td>\n",
       "      <td>setatus tidk muncul beranda</td>\n",
       "    </tr>\n",
       "    <tr>\n",
       "      <th>110</th>\n",
       "      <td>Knp banyak sekali 4no disini</td>\n",
       "      <td>3</td>\n",
       "      <td>knp 4no</td>\n",
       "    </tr>\n",
       "    <tr>\n",
       "      <th>115</th>\n",
       "      <td>Fb saya kok aneh yaaa, fitur beranda pemberita...</td>\n",
       "      <td>3</td>\n",
       "      <td>fb aneh yaaa fitur beranda pemberitahuan perte...</td>\n",
       "    </tr>\n",
       "    <tr>\n",
       "      <th>124</th>\n",
       "      <td>Ekstra bonus maksudnya gimana min cara kerjanya..</td>\n",
       "      <td>3</td>\n",
       "      <td>ekstra bonus maksudnya gimana min kerjanya</td>\n",
       "    </tr>\n",
       "    <tr>\n",
       "      <th>164</th>\n",
       "      <td>Bagus</td>\n",
       "      <td>3</td>\n",
       "      <td>bagus</td>\n",
       "    </tr>\n",
       "  </tbody>\n",
       "</table>\n",
       "</div>"
      ],
      "text/plain": [
       "                                               content  score  \\\n",
       "24                                              mantap      3   \n",
       "35            Mohon di bantu facebook nya biyar lancar      3   \n",
       "53                                         seru banget      3   \n",
       "64                                              mantap      3   \n",
       "80                   Kenapa ini fb, apk nya eror terus      3   \n",
       "85   Kenapa FB saya gada tombol pemberitahuannya ka...      3   \n",
       "92                      setatus tidk muncul di beranda      3   \n",
       "110                       Knp banyak sekali 4no disini      3   \n",
       "115  Fb saya kok aneh yaaa, fitur beranda pemberita...      3   \n",
       "124  Ekstra bonus maksudnya gimana min cara kerjanya..      3   \n",
       "164                                              Bagus      3   \n",
       "\n",
       "                                              contents  \n",
       "24                                              mantap  \n",
       "35               mohon bantu facebook nya biyar lancar  \n",
       "53                                         seru banget  \n",
       "64                                              mantap  \n",
       "80                                     fb apk nya eror  \n",
       "85   fb gada tombol pemberitahuannya kalo yg coment...  \n",
       "92                         setatus tidk muncul beranda  \n",
       "110                                            knp 4no  \n",
       "115  fb aneh yaaa fitur beranda pemberitahuan perte...  \n",
       "124         ekstra bonus maksudnya gimana min kerjanya  \n",
       "164                                              bagus  "
      ]
     },
     "execution_count": 55,
     "metadata": {},
     "output_type": "execute_result"
    }
   ],
   "source": [
    "rating3.head(11)"
   ]
  },
  {
   "cell_type": "code",
   "execution_count": 56,
   "metadata": {},
   "outputs": [],
   "source": [
    "# Fungsi untuk memberi label berdasarkan rating / score\n",
    "def label_sentiment(score):\n",
    "    if score >= 4:\n",
    "        return 'positive'\n",
    "    elif score <= 2:\n",
    "        return 'negative'\n",
    "    else:\n",
    "        return 'neutral'\n",
    "\n",
    "# Tambahkan kolom label\n",
    "facebook['label'] = facebook['score'].apply(label_sentiment)"
   ]
  },
  {
   "cell_type": "code",
   "execution_count": 61,
   "metadata": {},
   "outputs": [
    {
     "data": {
      "text/html": [
       "<div>\n",
       "<style scoped>\n",
       "    .dataframe tbody tr th:only-of-type {\n",
       "        vertical-align: middle;\n",
       "    }\n",
       "\n",
       "    .dataframe tbody tr th {\n",
       "        vertical-align: top;\n",
       "    }\n",
       "\n",
       "    .dataframe thead th {\n",
       "        text-align: right;\n",
       "    }\n",
       "</style>\n",
       "<table border=\"1\" class=\"dataframe\">\n",
       "  <thead>\n",
       "    <tr style=\"text-align: right;\">\n",
       "      <th></th>\n",
       "      <th>content</th>\n",
       "      <th>score</th>\n",
       "      <th>contents</th>\n",
       "      <th>label</th>\n",
       "    </tr>\n",
       "  </thead>\n",
       "  <tbody>\n",
       "    <tr>\n",
       "      <th>525844</th>\n",
       "      <td>Ok</td>\n",
       "      <td>5</td>\n",
       "      <td>ok</td>\n",
       "      <td>positive</td>\n",
       "    </tr>\n",
       "    <tr>\n",
       "      <th>588013</th>\n",
       "      <td>Aplikasi ngk jelas lah</td>\n",
       "      <td>1</td>\n",
       "      <td>aplikasi ngk</td>\n",
       "      <td>negative</td>\n",
       "    </tr>\n",
       "    <tr>\n",
       "      <th>190352</th>\n",
       "      <td>Kenapa setiap saya masuk dan posting sesuatu s...</td>\n",
       "      <td>1</td>\n",
       "      <td>masuk posting langsung terkuncitolong perbaiki...</td>\n",
       "      <td>negative</td>\n",
       "    </tr>\n",
       "    <tr>\n",
       "      <th>355973</th>\n",
       "      <td>Pacebook monyet</td>\n",
       "      <td>5</td>\n",
       "      <td>pacebook monyet</td>\n",
       "      <td>positive</td>\n",
       "    </tr>\n",
       "    <tr>\n",
       "      <th>203185</th>\n",
       "      <td>Good</td>\n",
       "      <td>5</td>\n",
       "      <td>good</td>\n",
       "      <td>positive</td>\n",
       "    </tr>\n",
       "    <tr>\n",
       "      <th>564907</th>\n",
       "      <td>Ok</td>\n",
       "      <td>3</td>\n",
       "      <td>ok</td>\n",
       "      <td>neutral</td>\n",
       "    </tr>\n",
       "    <tr>\n",
       "      <th>82666</th>\n",
       "      <td>Htyg Tri</td>\n",
       "      <td>1</td>\n",
       "      <td>htyg tri</td>\n",
       "      <td>negative</td>\n",
       "    </tr>\n",
       "    <tr>\n",
       "      <th>478517</th>\n",
       "      <td>Mark subreker</td>\n",
       "      <td>5</td>\n",
       "      <td>mark subreker</td>\n",
       "      <td>positive</td>\n",
       "    </tr>\n",
       "    <tr>\n",
       "      <th>380346</th>\n",
       "      <td>Bagusin</td>\n",
       "      <td>5</td>\n",
       "      <td>bagusin</td>\n",
       "      <td>positive</td>\n",
       "    </tr>\n",
       "    <tr>\n",
       "      <th>248381</th>\n",
       "      <td>Knp fb ku itu² aja gak ada orang selain daerah...</td>\n",
       "      <td>2</td>\n",
       "      <td>knp fb ku itu² aja gak orang daerah ku bosan m...</td>\n",
       "      <td>negative</td>\n",
       "    </tr>\n",
       "    <tr>\n",
       "      <th>301787</th>\n",
       "      <td>Bgusss skalii</td>\n",
       "      <td>5</td>\n",
       "      <td>bgusss skalii</td>\n",
       "      <td>positive</td>\n",
       "    </tr>\n",
       "  </tbody>\n",
       "</table>\n",
       "</div>"
      ],
      "text/plain": [
       "                                                  content  score  \\\n",
       "525844                                                 Ok      5   \n",
       "588013                             Aplikasi ngk jelas lah      1   \n",
       "190352  Kenapa setiap saya masuk dan posting sesuatu s...      1   \n",
       "355973                                    Pacebook monyet      5   \n",
       "203185                                               Good      5   \n",
       "564907                                                 Ok      3   \n",
       "82666                                            Htyg Tri      1   \n",
       "478517                                      Mark subreker      5   \n",
       "380346                                            Bagusin      5   \n",
       "248381  Knp fb ku itu² aja gak ada orang selain daerah...      2   \n",
       "301787                                      Bgusss skalii      5   \n",
       "\n",
       "                                                 contents     label  \n",
       "525844                                                 ok  positive  \n",
       "588013                                       aplikasi ngk  negative  \n",
       "190352  masuk posting langsung terkuncitolong perbaiki...  negative  \n",
       "355973                                    pacebook monyet  positive  \n",
       "203185                                               good  positive  \n",
       "564907                                                 ok   neutral  \n",
       "82666                                            htyg tri  negative  \n",
       "478517                                      mark subreker  positive  \n",
       "380346                                            bagusin  positive  \n",
       "248381  knp fb ku itu² aja gak orang daerah ku bosan m...  negative  \n",
       "301787                                      bgusss skalii  positive  "
      ]
     },
     "execution_count": 61,
     "metadata": {},
     "output_type": "execute_result"
    }
   ],
   "source": [
    "facebook.sample(11)"
   ]
  },
  {
   "cell_type": "code",
   "execution_count": 69,
   "metadata": {},
   "outputs": [
    {
     "name": "stderr",
     "output_type": "stream",
     "text": [
      "C:\\Users\\Akmal Fauzan\\AppData\\Local\\Temp\\ipykernel_21220\\1452771361.py:3: FutureWarning: \n",
      "\n",
      "Passing `palette` without assigning `hue` is deprecated and will be removed in v0.14.0. Assign the `x` variable to `hue` and set `legend=False` for the same effect.\n",
      "\n",
      "  sns.countplot(x='label', data=facebook, palette='mako')\n"
     ]
    },
    {
     "data": {
      "image/png": "[encoded data removed]",
      "text/plain": [
       "<Figure size 800x600 with 1 Axes>"
      ]
     },
     "metadata": {},
     "output_type": "display_data"
    }
   ],
   "source": [
    "# Visualisasi distribusi label\n",
    "plt.figure(figsize=(8, 6))\n",
    "sns.countplot(x='label', data=facebook, palette='mako')\n",
    "plt.title('Distribusi Label Sentimen')\n",
    "plt.xlabel('Sentimen')\n",
    "plt.ylabel('Jumlah')\n",
    "plt.show()"
   ]
  },
  {
   "cell_type": "code",
   "execution_count": 80,
   "metadata": {},
   "outputs": [],
   "source": [
    "from sklearn.model_selection import train_test_split\n",
    "from sklearn.naive_bayes import MultinomialNB\n",
    "from sklearn.metrics import accuracy_score, classification_report, confusion_matrix\n",
    "from imblearn.over_sampling import SMOTE"
   ]
  },
  {
   "cell_type": "code",
   "execution_count": 64,
   "metadata": {},
   "outputs": [],
   "source": [
    "# Split dataset\n",
    "X_train, X_test, y_train, y_test = train_test_split(X, facebook['label'], test_size=0.2, random_state=42)"
   ]
  },
  {
   "cell_type": "code",
   "execution_count": 73,
   "metadata": {},
   "outputs": [],
   "source": [
    "# # Terapkan SMOTE\n",
    "# smote = SMOTE(random_state=42)\n",
    "# X_train_res, y_train_res = smote.fit_resample(X_train, y_train)"
   ]
  },
  {
   "cell_type": "code",
   "execution_count": 77,
   "metadata": {},
   "outputs": [
    {
     "data": {
      "text/html": [
       "<style>#sk-container-id-3 {color: black;}#sk-container-id-3 pre{padding: 0;}#sk-container-id-3 div.sk-toggleable {background-color: white;}#sk-container-id-3 label.sk-toggleable__label {cursor: pointer;display: block;width: 100%;margin-bottom: 0;padding: 0.3em;box-sizing: border-box;text-align: center;}#sk-container-id-3 label.sk-toggleable__label-arrow:before {content: \"▸\";float: left;margin-right: 0.25em;color: #696969;}#sk-container-id-3 label.sk-toggleable__label-arrow:hover:before {color: black;}#sk-container-id-3 div.sk-estimator:hover label.sk-toggleable__label-arrow:before {color: black;}#sk-container-id-3 div.sk-toggleable__content {max-height: 0;max-width: 0;overflow: hidden;text-align: left;background-color: #f0f8ff;}#sk-container-id-3 div.sk-toggleable__content pre {margin: 0.2em;color: black;border-radius: 0.25em;background-color: #f0f8ff;}#sk-container-id-3 input.sk-toggleable__control:checked~div.sk-toggleable__content {max-height: 200px;max-width: 100%;overflow: auto;}#sk-container-id-3 input.sk-toggleable__control:checked~label.sk-toggleable__label-arrow:before {content: \"▾\";}#sk-container-id-3 div.sk-estimator input.sk-toggleable__control:checked~label.sk-toggleable__label {background-color: #d4ebff;}#sk-container-id-3 div.sk-label input.sk-toggleable__control:checked~label.sk-toggleable__label {background-color: #d4ebff;}#sk-container-id-3 input.sk-hidden--visually {border: 0;clip: rect(1px 1px 1px 1px);clip: rect(1px, 1px, 1px, 1px);height: 1px;margin: -1px;overflow: hidden;padding: 0;position: absolute;width: 1px;}#sk-container-id-3 div.sk-estimator {font-family: monospace;background-color: #f0f8ff;border: 1px dotted black;border-radius: 0.25em;box-sizing: border-box;margin-bottom: 0.5em;}#sk-container-id-3 div.sk-estimator:hover {background-color: #d4ebff;}#sk-container-id-3 div.sk-parallel-item::after {content: \"\";width: 100%;border-bottom: 1px solid gray;flex-grow: 1;}#sk-container-id-3 div.sk-label:hover label.sk-toggleable__label {background-color: #d4ebff;}#sk-container-id-3 div.sk-serial::before {content: \"\";position: absolute;border-left: 1px solid gray;box-sizing: border-box;top: 0;bottom: 0;left: 50%;z-index: 0;}#sk-container-id-3 div.sk-serial {display: flex;flex-direction: column;align-items: center;background-color: white;padding-right: 0.2em;padding-left: 0.2em;position: relative;}#sk-container-id-3 div.sk-item {position: relative;z-index: 1;}#sk-container-id-3 div.sk-parallel {display: flex;align-items: stretch;justify-content: center;background-color: white;position: relative;}#sk-container-id-3 div.sk-item::before, #sk-container-id-3 div.sk-parallel-item::before {content: \"\";position: absolute;border-left: 1px solid gray;box-sizing: border-box;top: 0;bottom: 0;left: 50%;z-index: -1;}#sk-container-id-3 div.sk-parallel-item {display: flex;flex-direction: column;z-index: 1;position: relative;background-color: white;}#sk-container-id-3 div.sk-parallel-item:first-child::after {align-self: flex-end;width: 50%;}#sk-container-id-3 div.sk-parallel-item:last-child::after {align-self: flex-start;width: 50%;}#sk-container-id-3 div.sk-parallel-item:only-child::after {width: 0;}#sk-container-id-3 div.sk-dashed-wrapped {border: 1px dashed gray;margin: 0 0.4em 0.5em 0.4em;box-sizing: border-box;padding-bottom: 0.4em;background-color: white;}#sk-container-id-3 div.sk-label label {font-family: monospace;font-weight: bold;display: inline-block;line-height: 1.2em;}#sk-container-id-3 div.sk-label-container {text-align: center;}#sk-container-id-3 div.sk-container {/* jupyter's `normalize.less` sets `[hidden] { display: none; }` but bootstrap.min.css set `[hidden] { display: none !important; }` so we also need the `!important` here to be able to override the default hidden behavior on the sphinx rendered scikit-learn.org. See: https://github.com/scikit-learn/scikit-learn/issues/21755 */display: inline-block !important;position: relative;}#sk-container-id-3 div.sk-text-repr-fallback {display: none;}</style><div id=\"sk-container-id-3\" class=\"sk-top-container\"><div class=\"sk-text-repr-fallback\"><pre>MultinomialNB()</pre><b>In a Jupyter environment, please rerun this cell to show the HTML representation or trust the notebook. <br />On GitHub, the HTML representation is unable to render, please try loading this page with nbviewer.org.</b></div><div class=\"sk-container\" hidden><div class=\"sk-item\"><div class=\"sk-estimator sk-toggleable\"><input class=\"sk-toggleable__control sk-hidden--visually\" id=\"sk-estimator-id-3\" type=\"checkbox\" checked><label for=\"sk-estimator-id-3\" class=\"sk-toggleable__label sk-toggleable__label-arrow\">MultinomialNB</label><div class=\"sk-toggleable__content\"><pre>MultinomialNB()</pre></div></div></div></div></div>"
      ],
      "text/plain": [
       "MultinomialNB()"
      ]
     },
     "execution_count": 77,
     "metadata": {},
     "output_type": "execute_result"
    }
   ],
   "source": [
    "# Train Naive Bayes classifier\n",
    "nbModel = MultinomialNB()\n",
    "nbModel.fit(X_train, y_train)"
   ]
  },
  {
   "cell_type": "code",
   "execution_count": 78,
   "metadata": {},
   "outputs": [],
   "source": [
    "# Predict sentiment\n",
    "y_pred = nbModel.predict(X_test)"
   ]
  },
  {
   "cell_type": "code",
   "execution_count": 79,
   "metadata": {},
   "outputs": [
    {
     "name": "stdout",
     "output_type": "stream",
     "text": [
      "Accuracy: 0.781401682553739\n",
      "              precision    recall  f1-score   support\n",
      "\n",
      "    negative       0.74      0.71      0.72     41121\n",
      "     neutral       0.34      0.00      0.00      6659\n",
      "    positive       0.80      0.90      0.85     71919\n",
      "\n",
      "    accuracy                           0.78    119699\n",
      "   macro avg       0.63      0.54      0.52    119699\n",
      "weighted avg       0.76      0.78      0.76    119699\n",
      "\n"
     ]
    }
   ],
   "source": [
    "accuracy = accuracy_score(y_test, y_pred)\n",
    "print(f\"Accuracy: {accuracy}\")\n",
    "print(classification_report(y_test, y_pred))"
   ]
  },
  {
   "cell_type": "code",
   "execution_count": 81,
   "metadata": {},
   "outputs": [
    {
     "data": {
      "image/png": "[encoded data removed]",
      "text/plain": [
       "<Figure size 800x600 with 2 Axes>"
      ]
     },
     "metadata": {},
     "output_type": "display_data"
    }
   ],
   "source": [
    "cm = confusion_matrix(y_test, y_pred)\n",
    "\n",
    "# Visualisasi Confusion Matrix\n",
    "plt.figure(figsize=(8, 6))\n",
    "sns.heatmap(cm, annot=True, fmt='d', cmap='Blues', xticklabels=['negative', 'neutral', 'positive'], yticklabels=['negative', 'neutral', 'positive'])\n",
    "plt.xlabel('Predicted')\n",
    "plt.ylabel('Actual')\n",
    "plt.title('Confusion Matrix')\n",
    "plt.show()"
   ]
  },
  {
   "cell_type": "code",
   "execution_count": null,
   "metadata": {},
   "outputs": [],
   "source": []
  }
 ],
 "metadata": {
  "kernelspec": {
   "display_name": "Python 3",
   "language": "python",
   "name": "python3"
  },
  "language_info": {
   "codemirror_mode": {
    "name": "ipython",
    "version": 3
   },
   "file_extension": ".py",
   "mimetype": "text/x-python",
   "name": "python",
   "nbconvert_exporter": "python",
   "pygments_lexer": "ipython3",
   "version": "3.11.4"
  }
 },
 "nbformat": 4,
 "nbformat_minor": 2
}
